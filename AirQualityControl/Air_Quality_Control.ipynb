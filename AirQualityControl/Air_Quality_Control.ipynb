{
  "nbformat": 4,
  "nbformat_minor": 0,
  "metadata": {
    "colab": {
      "name": "Air_Quality_Control.ipynb",
      "provenance": []
    },
    "kernelspec": {
      "name": "python3",
      "display_name": "Python 3"
    }
  },
  "cells": [
    {
      "cell_type": "markdown",
      "metadata": {
        "id": "Eoj6Fx_JGUib"
      },
      "source": [
        "# Air Quality Control\n",
        "#### India 2020\n",
        "\n",
        "https://data.gov.in/resources/real-time-air-quality-index-various-locations/api"
      ]
    },
    {
      "cell_type": "code",
      "metadata": {
        "id": "wGrwDei3b4EE"
      },
      "source": [
        "# Used for fetching Data from the source\n",
        "import requests\n",
        "\n",
        "# Used for Data Wrangling & Analysis Task \n",
        "import pandas as pd"
      ],
      "execution_count": 1,
      "outputs": []
    },
    {
      "cell_type": "markdown",
      "metadata": {
        "id": "V9wmPSpqHF9g"
      },
      "source": [
        "## Fetching data ..."
      ]
    },
    {
      "cell_type": "code",
      "metadata": {
        "id": "Ipv4kgCvdbdj",
        "outputId": "1214ead4-4ad4-4ab6-ae4c-e2f8960f3877",
        "colab": {
          "base_uri": "https://localhost:8080/",
          "height": 51
        }
      },
      "source": [
        "apiVal = {\n",
        "    'api-key' : '579b464db66ec23bdd000001cdd3946e44ce4aad7209ff7b23ac571b',\n",
        "    'format' : 'json',\n",
        "    'limit' : '10'\n",
        "}\n",
        "\n",
        "print(\"Data Fetch - Initiated\")\n",
        "\n",
        "listOfRecords = []\n",
        "airQualityRecords = []\n",
        "for i in range(0, 1500, 10): # Values are set based on the API requirements.\n",
        "  responseObject = requests.get('https://api.data.gov.in/resource/3b01bcb8-0b14-4abf-b6f2-c1bfd384ba69?api-key={}&format={}&offset={}&limit={}'.format( apiVal['api-key'],apiVal['format'], i,apiVal['limit']))\n",
        "  if responseObject.status_code == 200:\n",
        "    listOfRecords.append(responseObject.json())\n",
        "    airQualityRecords.extend(responseObject.json()[\"records\"])\n",
        "  else:\n",
        "    break\n",
        "\n",
        "print(\"Data Fetch - Complete\")"
      ],
      "execution_count": 2,
      "outputs": [
        {
          "output_type": "stream",
          "text": [
            "Data Fetch - Initiated\n",
            "Data Fetch - Complete\n"
          ],
          "name": "stdout"
        }
      ]
    },
    {
      "cell_type": "code",
      "metadata": {
        "id": "Mwj2kmJFdZ97",
        "outputId": "d56c69f9-72ed-4fa1-b43b-103b8e14a2e0",
        "colab": {
          "base_uri": "https://localhost:8080/",
          "height": 34
        }
      },
      "source": [
        "print( \"No of Requests Made :: {} \\t Total Data Points Fetched:: {} \\t \".format(len(listOfRecords), len(airQualityRecords)) )"
      ],
      "execution_count": 3,
      "outputs": [
        {
          "output_type": "stream",
          "text": [
            "No of Requests Made :: 150 \t Total Data Points Fetched:: 1416 \t \n"
          ],
          "name": "stdout"
        }
      ]
    },
    {
      "cell_type": "code",
      "metadata": {
        "id": "WXy4x4QNjngP"
      },
      "source": [
        "# Storing data into a structured format\n",
        "dfData = pd.DataFrame(airQualityRecords)"
      ],
      "execution_count": 4,
      "outputs": []
    },
    {
      "cell_type": "code",
      "metadata": {
        "id": "dQ3gYl_u3PHi",
        "outputId": "3944e15c-7d65-437e-e80f-cc42668ce21e",
        "colab": {
          "base_uri": "https://localhost:8080/",
          "height": 323
        }
      },
      "source": [
        "# Looking at its summary \n",
        "dfData.info()"
      ],
      "execution_count": 5,
      "outputs": [
        {
          "output_type": "stream",
          "text": [
            "<class 'pandas.core.frame.DataFrame'>\n",
            "RangeIndex: 1416 entries, 0 to 1415\n",
            "Data columns (total 11 columns):\n",
            " #   Column          Non-Null Count  Dtype \n",
            "---  ------          --------------  ----- \n",
            " 0   id              1416 non-null   object\n",
            " 1   country         1416 non-null   object\n",
            " 2   state           1416 non-null   object\n",
            " 3   city            1416 non-null   object\n",
            " 4   station         1416 non-null   object\n",
            " 5   last_update     1416 non-null   object\n",
            " 6   pollutant_id    1416 non-null   object\n",
            " 7   pollutant_min   1416 non-null   object\n",
            " 8   pollutant_max   1416 non-null   object\n",
            " 9   pollutant_avg   1416 non-null   object\n",
            " 10  pollutant_unit  1416 non-null   object\n",
            "dtypes: object(11)\n",
            "memory usage: 121.8+ KB\n"
          ],
          "name": "stdout"
        }
      ]
    },
    {
      "cell_type": "code",
      "metadata": {
        "id": "a-J3UYhJrwjr",
        "outputId": "272544e3-21a1-4d89-fc42-e9788b5fc99b",
        "colab": {
          "base_uri": "https://localhost:8080/",
          "height": 179
        }
      },
      "source": [
        "# Exploring the initial records\n",
        "dfData.head(2)"
      ],
      "execution_count": 6,
      "outputs": [
        {
          "output_type": "execute_result",
          "data": {
            "text/html": [
              "<div>\n",
              "<style scoped>\n",
              "    .dataframe tbody tr th:only-of-type {\n",
              "        vertical-align: middle;\n",
              "    }\n",
              "\n",
              "    .dataframe tbody tr th {\n",
              "        vertical-align: top;\n",
              "    }\n",
              "\n",
              "    .dataframe thead th {\n",
              "        text-align: right;\n",
              "    }\n",
              "</style>\n",
              "<table border=\"1\" class=\"dataframe\">\n",
              "  <thead>\n",
              "    <tr style=\"text-align: right;\">\n",
              "      <th></th>\n",
              "      <th>id</th>\n",
              "      <th>country</th>\n",
              "      <th>state</th>\n",
              "      <th>city</th>\n",
              "      <th>station</th>\n",
              "      <th>last_update</th>\n",
              "      <th>pollutant_id</th>\n",
              "      <th>pollutant_min</th>\n",
              "      <th>pollutant_max</th>\n",
              "      <th>pollutant_avg</th>\n",
              "      <th>pollutant_unit</th>\n",
              "    </tr>\n",
              "  </thead>\n",
              "  <tbody>\n",
              "    <tr>\n",
              "      <th>0</th>\n",
              "      <td>1</td>\n",
              "      <td>India</td>\n",
              "      <td>Andhra_Pradesh</td>\n",
              "      <td>Amaravati</td>\n",
              "      <td>Secretariat, Amaravati - APPCB</td>\n",
              "      <td>20-10-2020 10:00:00</td>\n",
              "      <td>PM2.5</td>\n",
              "      <td>12</td>\n",
              "      <td>40</td>\n",
              "      <td>21</td>\n",
              "      <td>NA</td>\n",
              "    </tr>\n",
              "    <tr>\n",
              "      <th>1</th>\n",
              "      <td>2</td>\n",
              "      <td>India</td>\n",
              "      <td>Andhra_Pradesh</td>\n",
              "      <td>Amaravati</td>\n",
              "      <td>Secretariat, Amaravati - APPCB</td>\n",
              "      <td>20-10-2020 10:00:00</td>\n",
              "      <td>PM10</td>\n",
              "      <td>13</td>\n",
              "      <td>45</td>\n",
              "      <td>26</td>\n",
              "      <td>NA</td>\n",
              "    </tr>\n",
              "  </tbody>\n",
              "</table>\n",
              "</div>"
            ],
            "text/plain": [
              "  id country           state  ... pollutant_max pollutant_avg pollutant_unit\n",
              "0  1   India  Andhra_Pradesh  ...            40            21             NA\n",
              "1  2   India  Andhra_Pradesh  ...            45            26             NA\n",
              "\n",
              "[2 rows x 11 columns]"
            ]
          },
          "metadata": {
            "tags": []
          },
          "execution_count": 6
        }
      ]
    },
    {
      "cell_type": "code",
      "metadata": {
        "id": "LmHwzYO83TIA",
        "outputId": "7e6c8f44-6c65-4e9e-8f05-0c73712c6cd8",
        "colab": {
          "base_uri": "https://localhost:8080/",
          "height": 34
        }
      },
      "source": [
        "# Checking for irregular data\n",
        "len(dfData[ (dfData.pollutant_min == 'NA') | (dfData.pollutant_max == 'NA') | (dfData.pollutant_avg == 'NA')])"
      ],
      "execution_count": 7,
      "outputs": [
        {
          "output_type": "execute_result",
          "data": {
            "text/plain": [
              "111"
            ]
          },
          "metadata": {
            "tags": []
          },
          "execution_count": 7
        }
      ]
    },
    {
      "cell_type": "code",
      "metadata": {
        "id": "k7-7CFxh4iU-"
      },
      "source": [
        "# Cleaning the data\n",
        "cleanDf = dfData[ ~(dfData.pollutant_min == 'NA') | ~(dfData.pollutant_max == 'NA') | ~(dfData.pollutant_avg == 'NA')].copy()"
      ],
      "execution_count": 8,
      "outputs": []
    },
    {
      "cell_type": "code",
      "metadata": {
        "id": "K-fb6W9Otygv",
        "outputId": "f44dd3f6-639e-4bd6-bd6f-32107dbb1073",
        "colab": {
          "base_uri": "https://localhost:8080/",
          "height": 34
        }
      },
      "source": [
        "cleanDf.shape"
      ],
      "execution_count": 9,
      "outputs": [
        {
          "output_type": "execute_result",
          "data": {
            "text/plain": [
              "(1305, 11)"
            ]
          },
          "metadata": {
            "tags": []
          },
          "execution_count": 9
        }
      ]
    },
    {
      "cell_type": "code",
      "metadata": {
        "id": "KQM01NJw5aeY",
        "outputId": "c0789b13-69d7-4bdc-e207-a903ef3eab50",
        "colab": {
          "base_uri": "https://localhost:8080/",
          "height": 323
        }
      },
      "source": [
        "cleanDf.info()"
      ],
      "execution_count": 10,
      "outputs": [
        {
          "output_type": "stream",
          "text": [
            "<class 'pandas.core.frame.DataFrame'>\n",
            "Int64Index: 1305 entries, 0 to 1415\n",
            "Data columns (total 11 columns):\n",
            " #   Column          Non-Null Count  Dtype \n",
            "---  ------          --------------  ----- \n",
            " 0   id              1305 non-null   object\n",
            " 1   country         1305 non-null   object\n",
            " 2   state           1305 non-null   object\n",
            " 3   city            1305 non-null   object\n",
            " 4   station         1305 non-null   object\n",
            " 5   last_update     1305 non-null   object\n",
            " 6   pollutant_id    1305 non-null   object\n",
            " 7   pollutant_min   1305 non-null   object\n",
            " 8   pollutant_max   1305 non-null   object\n",
            " 9   pollutant_avg   1305 non-null   object\n",
            " 10  pollutant_unit  1305 non-null   object\n",
            "dtypes: object(11)\n",
            "memory usage: 122.3+ KB\n"
          ],
          "name": "stdout"
        }
      ]
    },
    {
      "cell_type": "code",
      "metadata": {
        "id": "HgH-xve15e6I"
      },
      "source": [
        "# Handling numerical data\n",
        "cleanDf['pollutant_min'] = cleanDf['pollutant_min'].astype(float)\n",
        "cleanDf['pollutant_max'] = cleanDf['pollutant_max'].astype(float)\n",
        "cleanDf['pollutant_avg'] = cleanDf['pollutant_avg'].astype(float)"
      ],
      "execution_count": 11,
      "outputs": []
    },
    {
      "cell_type": "code",
      "metadata": {
        "id": "r-wd_EvhsSmd",
        "outputId": "5de11895-9591-4290-ca95-3f1495775850",
        "colab": {
          "base_uri": "https://localhost:8080/",
          "height": 34
        }
      },
      "source": [
        "cleanDf.city.nunique()"
      ],
      "execution_count": 12,
      "outputs": [
        {
          "output_type": "execute_result",
          "data": {
            "text/plain": [
              "119"
            ]
          },
          "metadata": {
            "tags": []
          },
          "execution_count": 12
        }
      ]
    },
    {
      "cell_type": "markdown",
      "metadata": {
        "id": "HcBjSpx1JGT7"
      },
      "source": [
        "### Story Telling"
      ]
    },
    {
      "cell_type": "code",
      "metadata": {
        "id": "3OlVP1qPgsrj",
        "outputId": "35546b1f-7c43-4ca3-eb88-c4c56c69b90d",
        "colab": {
          "base_uri": "https://localhost:8080/",
          "height": 561
        }
      },
      "source": [
        "print(\"Data Comprises of :: -\\n\\n \")\n",
        "\n",
        "print(\"No of Countries :: {}\".format( cleanDf[\"country\"].nunique() ) )\n",
        "print(\"\\t Countries :: {}\".format( cleanDf[\"country\"].unique() ) )\n",
        "print(\"No of States :: {}\".format( cleanDf[\"state\"].nunique() ) )\n",
        "print(\"\\t States :: {}\".format( cleanDf[\"state\"].unique() ) )\n",
        "\n",
        "print(\"No of Cities :: {}\".format( cleanDf[\"city\"].nunique() ) )\n",
        "print(\"\\t Cities :: {}\".format( cleanDf[\"city\"].unique() ) )\n",
        "print(\"No of Station :: {}\".format( cleanDf[\"station\"].nunique() ) )\n",
        "# print(\"\\t Station :: {}\".format( cleanDf[\"station\"].unique() ) ) // list is long"
      ],
      "execution_count": 13,
      "outputs": [
        {
          "output_type": "stream",
          "text": [
            "Data Comprises of :: -\n",
            "\n",
            " \n",
            "No of Countries :: 1\n",
            "\t Countries :: ['India']\n",
            "No of States :: 20\n",
            "\t States :: ['Andhra_Pradesh' 'Assam' 'Bihar' 'Chandigarh' 'Delhi' 'Gujarat' 'Haryana'\n",
            " 'Karnataka' 'Kerala' 'Madhya Pradesh' 'Maharashtra' 'Meghalaya'\n",
            " 'Nagaland' 'Odisha' 'Punjab' 'Rajasthan' 'TamilNadu' 'Telangana'\n",
            " 'Uttar_Pradesh' 'West_Bengal']\n",
            "No of Cities :: 119\n",
            "\t Cities :: ['Amaravati' 'Rajamahendravaram' 'Tirupati' 'Visakhapatnam' 'Guwahati'\n",
            " 'Gaya' 'Hajipur' 'Muzaffarpur' 'Patna' 'Chandigarh' 'Delhi' 'Ahmedabad'\n",
            " 'Ankleshwar' 'Gandhinagar' 'Vapi' 'Vatva' 'Ambala' 'Bahadurgarh'\n",
            " 'Ballabgarh' 'Bhiwani' 'Charkhi Dadri' 'Dharuhera' 'Faridabad'\n",
            " 'Fatehabad' 'Gurugram' 'Hisar' 'Jind' 'Kaithal' 'Karnal' 'Kurukshetra'\n",
            " 'Mandikhera' 'Manesar' 'Narnaul' 'Palwal' 'Panchkula' 'Panipat' 'Rohtak'\n",
            " 'Sirsa' 'Sonipat' 'Yamunanagar' 'Bengaluru' 'Chikkaballapur'\n",
            " 'Chikkamagaluru' 'Hubballi' 'Kalaburgi' 'Mysuru' 'Ramanagara'\n",
            " 'Vijayapura' 'Yadgir' 'Eloor' 'Kannur' 'Kollam' 'Kozhikode'\n",
            " 'Thiruvananthapuram' 'Thrissur' 'Bhopal' 'Damoh' 'Dewas' 'Gwalior'\n",
            " 'Indore' 'Jabalpur' 'Katni' 'Maihar' 'Mandideep' 'Pithampur' 'Ratlam'\n",
            " 'Sagar' 'Satna' 'Singrauli' 'Ujjain' 'Aurangabad' 'Chandrapur' 'Kalyan'\n",
            " 'Mumbai' 'Nagpur' 'Nashik' 'Navi Mumbai' 'Solapur' 'Thane' 'Shillong'\n",
            " 'Kohima' 'Brajrajnagar' 'Talcher' 'Amritsar' 'Bathinda' 'Jalandhar'\n",
            " 'Khanna' 'Ludhiana' 'Mandi Gobindgarh' 'Patiala' 'Rupnagar' 'Ajmer'\n",
            " 'Alwar' 'Bhiwadi' 'Jaipur' 'Jodhpur' 'Kota' 'Pali' 'Udaipur' 'Chennai'\n",
            " 'Coimbatore' 'Hyderabad' 'Agra' 'Baghpat' 'Bulandshahr' 'Ghaziabad'\n",
            " 'Greater Noida' 'Hapur' 'Kanpur' 'Lucknow' 'Meerut' 'Moradabad'\n",
            " 'Muzaffarnagar' 'Noida' 'Varanasi' 'Asansol' 'Howrah' 'Kolkata'\n",
            " 'Siliguri']\n",
            "No of Station :: 214\n"
          ],
          "name": "stdout"
        }
      ]
    },
    {
      "cell_type": "code",
      "metadata": {
        "id": "9a-DBCPfgswX",
        "outputId": "6c624320-2fd2-43d4-a421-8c61316c4a45",
        "colab": {
          "base_uri": "https://localhost:8080/",
          "height": 34
        }
      },
      "source": [
        "print(\" Different pollutants captured - {}\".format(cleanDf[\"pollutant_id\"].unique()))"
      ],
      "execution_count": 14,
      "outputs": [
        {
          "output_type": "stream",
          "text": [
            " Different pollutants captured - ['PM2.5' 'PM10' 'NO2' 'NH3' 'SO2' 'CO' 'OZONE']\n"
          ],
          "name": "stdout"
        }
      ]
    },
    {
      "cell_type": "code",
      "metadata": {
        "id": "Q_p9hgPpgsuK",
        "outputId": "8246b094-7bca-404f-d617-b46c71925b71",
        "colab": {
          "base_uri": "https://localhost:8080/",
          "height": 504
        }
      },
      "source": [
        "# Further diving into the data\n",
        "\n",
        "cleanDf.groupby(['pollutant_id', 'city'])['pollutant_min',\t'pollutant_avg','pollutant_max'].sum()"
      ],
      "execution_count": 15,
      "outputs": [
        {
          "output_type": "stream",
          "text": [
            "/usr/local/lib/python3.6/dist-packages/ipykernel_launcher.py:1: FutureWarning: Indexing with multiple keys (implicitly converted to a tuple of keys) will be deprecated, use a list instead.\n",
            "  \"\"\"Entry point for launching an IPython kernel.\n"
          ],
          "name": "stderr"
        },
        {
          "output_type": "execute_result",
          "data": {
            "text/html": [
              "<div>\n",
              "<style scoped>\n",
              "    .dataframe tbody tr th:only-of-type {\n",
              "        vertical-align: middle;\n",
              "    }\n",
              "\n",
              "    .dataframe tbody tr th {\n",
              "        vertical-align: top;\n",
              "    }\n",
              "\n",
              "    .dataframe thead th {\n",
              "        text-align: right;\n",
              "    }\n",
              "</style>\n",
              "<table border=\"1\" class=\"dataframe\">\n",
              "  <thead>\n",
              "    <tr style=\"text-align: right;\">\n",
              "      <th></th>\n",
              "      <th></th>\n",
              "      <th>pollutant_min</th>\n",
              "      <th>pollutant_avg</th>\n",
              "      <th>pollutant_max</th>\n",
              "    </tr>\n",
              "    <tr>\n",
              "      <th>pollutant_id</th>\n",
              "      <th>city</th>\n",
              "      <th></th>\n",
              "      <th></th>\n",
              "      <th></th>\n",
              "    </tr>\n",
              "  </thead>\n",
              "  <tbody>\n",
              "    <tr>\n",
              "      <th rowspan=\"5\" valign=\"top\">CO</th>\n",
              "      <th>Agra</th>\n",
              "      <td>12.0</td>\n",
              "      <td>46.0</td>\n",
              "      <td>91.0</td>\n",
              "    </tr>\n",
              "    <tr>\n",
              "      <th>Ahmedabad</th>\n",
              "      <td>8.0</td>\n",
              "      <td>53.0</td>\n",
              "      <td>103.0</td>\n",
              "    </tr>\n",
              "    <tr>\n",
              "      <th>Ajmer</th>\n",
              "      <td>5.0</td>\n",
              "      <td>46.0</td>\n",
              "      <td>81.0</td>\n",
              "    </tr>\n",
              "    <tr>\n",
              "      <th>Alwar</th>\n",
              "      <td>4.0</td>\n",
              "      <td>56.0</td>\n",
              "      <td>108.0</td>\n",
              "    </tr>\n",
              "    <tr>\n",
              "      <th>Amaravati</th>\n",
              "      <td>18.0</td>\n",
              "      <td>41.0</td>\n",
              "      <td>64.0</td>\n",
              "    </tr>\n",
              "    <tr>\n",
              "      <th>...</th>\n",
              "      <th>...</th>\n",
              "      <td>...</td>\n",
              "      <td>...</td>\n",
              "      <td>...</td>\n",
              "    </tr>\n",
              "    <tr>\n",
              "      <th rowspan=\"5\" valign=\"top\">SO2</th>\n",
              "      <th>Udaipur</th>\n",
              "      <td>3.0</td>\n",
              "      <td>14.0</td>\n",
              "      <td>41.0</td>\n",
              "    </tr>\n",
              "    <tr>\n",
              "      <th>Vatva</th>\n",
              "      <td>12.0</td>\n",
              "      <td>24.0</td>\n",
              "      <td>45.0</td>\n",
              "    </tr>\n",
              "    <tr>\n",
              "      <th>Vijayapura</th>\n",
              "      <td>1.0</td>\n",
              "      <td>3.0</td>\n",
              "      <td>5.0</td>\n",
              "    </tr>\n",
              "    <tr>\n",
              "      <th>Visakhapatnam</th>\n",
              "      <td>2.0</td>\n",
              "      <td>11.0</td>\n",
              "      <td>21.0</td>\n",
              "    </tr>\n",
              "    <tr>\n",
              "      <th>Yamunanagar</th>\n",
              "      <td>4.0</td>\n",
              "      <td>12.0</td>\n",
              "      <td>123.0</td>\n",
              "    </tr>\n",
              "  </tbody>\n",
              "</table>\n",
              "<p>744 rows × 3 columns</p>\n",
              "</div>"
            ],
            "text/plain": [
              "                            pollutant_min  pollutant_avg  pollutant_max\n",
              "pollutant_id city                                                      \n",
              "CO           Agra                    12.0           46.0           91.0\n",
              "             Ahmedabad                8.0           53.0          103.0\n",
              "             Ajmer                    5.0           46.0           81.0\n",
              "             Alwar                    4.0           56.0          108.0\n",
              "             Amaravati               18.0           41.0           64.0\n",
              "...                                   ...            ...            ...\n",
              "SO2          Udaipur                  3.0           14.0           41.0\n",
              "             Vatva                   12.0           24.0           45.0\n",
              "             Vijayapura               1.0            3.0            5.0\n",
              "             Visakhapatnam            2.0           11.0           21.0\n",
              "             Yamunanagar              4.0           12.0          123.0\n",
              "\n",
              "[744 rows x 3 columns]"
            ]
          },
          "metadata": {
            "tags": []
          },
          "execution_count": 15
        }
      ]
    },
    {
      "cell_type": "code",
      "metadata": {
        "id": "P8FXkY4N2SQ_",
        "outputId": "01751ea7-7445-436a-b4da-e5b083a4c4d6",
        "colab": {
          "base_uri": "https://localhost:8080/",
          "height": 504
        }
      },
      "source": [
        "cleanDf.groupby(['city','pollutant_id'])['pollutant_min',\t'pollutant_avg','pollutant_max'].sum()"
      ],
      "execution_count": 16,
      "outputs": [
        {
          "output_type": "stream",
          "text": [
            "/usr/local/lib/python3.6/dist-packages/ipykernel_launcher.py:1: FutureWarning: Indexing with multiple keys (implicitly converted to a tuple of keys) will be deprecated, use a list instead.\n",
            "  \"\"\"Entry point for launching an IPython kernel.\n"
          ],
          "name": "stderr"
        },
        {
          "output_type": "execute_result",
          "data": {
            "text/html": [
              "<div>\n",
              "<style scoped>\n",
              "    .dataframe tbody tr th:only-of-type {\n",
              "        vertical-align: middle;\n",
              "    }\n",
              "\n",
              "    .dataframe tbody tr th {\n",
              "        vertical-align: top;\n",
              "    }\n",
              "\n",
              "    .dataframe thead th {\n",
              "        text-align: right;\n",
              "    }\n",
              "</style>\n",
              "<table border=\"1\" class=\"dataframe\">\n",
              "  <thead>\n",
              "    <tr style=\"text-align: right;\">\n",
              "      <th></th>\n",
              "      <th></th>\n",
              "      <th>pollutant_min</th>\n",
              "      <th>pollutant_avg</th>\n",
              "      <th>pollutant_max</th>\n",
              "    </tr>\n",
              "    <tr>\n",
              "      <th>city</th>\n",
              "      <th>pollutant_id</th>\n",
              "      <th></th>\n",
              "      <th></th>\n",
              "      <th></th>\n",
              "    </tr>\n",
              "  </thead>\n",
              "  <tbody>\n",
              "    <tr>\n",
              "      <th rowspan=\"5\" valign=\"top\">Agra</th>\n",
              "      <th>CO</th>\n",
              "      <td>12.0</td>\n",
              "      <td>46.0</td>\n",
              "      <td>91.0</td>\n",
              "    </tr>\n",
              "    <tr>\n",
              "      <th>NO2</th>\n",
              "      <td>25.0</td>\n",
              "      <td>56.0</td>\n",
              "      <td>116.0</td>\n",
              "    </tr>\n",
              "    <tr>\n",
              "      <th>OZONE</th>\n",
              "      <td>19.0</td>\n",
              "      <td>87.0</td>\n",
              "      <td>192.0</td>\n",
              "    </tr>\n",
              "    <tr>\n",
              "      <th>PM2.5</th>\n",
              "      <td>97.0</td>\n",
              "      <td>247.0</td>\n",
              "      <td>313.0</td>\n",
              "    </tr>\n",
              "    <tr>\n",
              "      <th>SO2</th>\n",
              "      <td>1.0</td>\n",
              "      <td>18.0</td>\n",
              "      <td>82.0</td>\n",
              "    </tr>\n",
              "    <tr>\n",
              "      <th>...</th>\n",
              "      <th>...</th>\n",
              "      <td>...</td>\n",
              "      <td>...</td>\n",
              "      <td>...</td>\n",
              "    </tr>\n",
              "    <tr>\n",
              "      <th rowspan=\"5\" valign=\"top\">Yamunanagar</th>\n",
              "      <th>NO2</th>\n",
              "      <td>16.0</td>\n",
              "      <td>58.0</td>\n",
              "      <td>107.0</td>\n",
              "    </tr>\n",
              "    <tr>\n",
              "      <th>OZONE</th>\n",
              "      <td>6.0</td>\n",
              "      <td>68.0</td>\n",
              "      <td>110.0</td>\n",
              "    </tr>\n",
              "    <tr>\n",
              "      <th>PM10</th>\n",
              "      <td>83.0</td>\n",
              "      <td>220.0</td>\n",
              "      <td>404.0</td>\n",
              "    </tr>\n",
              "    <tr>\n",
              "      <th>PM2.5</th>\n",
              "      <td>69.0</td>\n",
              "      <td>254.0</td>\n",
              "      <td>378.0</td>\n",
              "    </tr>\n",
              "    <tr>\n",
              "      <th>SO2</th>\n",
              "      <td>4.0</td>\n",
              "      <td>12.0</td>\n",
              "      <td>123.0</td>\n",
              "    </tr>\n",
              "  </tbody>\n",
              "</table>\n",
              "<p>744 rows × 3 columns</p>\n",
              "</div>"
            ],
            "text/plain": [
              "                          pollutant_min  pollutant_avg  pollutant_max\n",
              "city        pollutant_id                                             \n",
              "Agra        CO                     12.0           46.0           91.0\n",
              "            NO2                    25.0           56.0          116.0\n",
              "            OZONE                  19.0           87.0          192.0\n",
              "            PM2.5                  97.0          247.0          313.0\n",
              "            SO2                     1.0           18.0           82.0\n",
              "...                                 ...            ...            ...\n",
              "Yamunanagar NO2                    16.0           58.0          107.0\n",
              "            OZONE                   6.0           68.0          110.0\n",
              "            PM10                   83.0          220.0          404.0\n",
              "            PM2.5                  69.0          254.0          378.0\n",
              "            SO2                     4.0           12.0          123.0\n",
              "\n",
              "[744 rows x 3 columns]"
            ]
          },
          "metadata": {
            "tags": []
          },
          "execution_count": 16
        }
      ]
    },
    {
      "cell_type": "code",
      "metadata": {
        "id": "31aLVP8v2dkl",
        "outputId": "0fcad3c9-b396-4f57-c307-051a39febd1e",
        "colab": {
          "base_uri": "https://localhost:8080/",
          "height": 275
        }
      },
      "source": [
        "# High Risk of Each Pollutant today\n",
        "\n",
        "for singlePL in cleanDf['pollutant_id'].unique():\n",
        "  print(\"For pollutant - {} \".format(singlePL))\n",
        "  tempDF = cleanDf[(cleanDf[\"pollutant_id\"]== singlePL)].sort_values('pollutant_avg', ascending=False).head(1).copy()\n",
        "  print(\" \\t Place at risk - {}\".format(tempDF[['state', 'city','station','pollutant_avg']].to_dict(\"records\")[0]) )"
      ],
      "execution_count": 17,
      "outputs": [
        {
          "output_type": "stream",
          "text": [
            "For pollutant - PM2.5 \n",
            " \t Place at risk - {'state': 'Uttar_Pradesh', 'city': 'Lucknow', 'station': 'Talkatora District Industries Center, Lucknow - CPCB', 'pollutant_avg': 341.0}\n",
            "For pollutant - PM10 \n",
            " \t Place at risk - {'state': 'Haryana', 'city': 'Ballabgarh', 'station': 'Nathu Colony, Ballabgarh - HSPCB', 'pollutant_avg': 292.0}\n",
            "For pollutant - NO2 \n",
            " \t Place at risk - {'state': 'Uttar_Pradesh', 'city': 'Meerut', 'station': 'Jai Bhim Nagar, Meerut - UPPCB', 'pollutant_avg': 192.0}\n",
            "For pollutant - NH3 \n",
            " \t Place at risk - {'state': 'Maharashtra', 'city': 'Nagpur', 'station': 'Opp GPO Civil Lines, Nagpur - MPCB', 'pollutant_avg': 60.0}\n",
            "For pollutant - SO2 \n",
            " \t Place at risk - {'state': 'Haryana', 'city': 'Jind', 'station': 'Police Lines, Jind - HSPCB', 'pollutant_avg': 75.0}\n",
            "For pollutant - CO \n",
            " \t Place at risk - {'state': 'Delhi', 'city': 'Delhi', 'station': 'ITO, Delhi - CPCB', 'pollutant_avg': 185.0}\n",
            "For pollutant - OZONE \n",
            " \t Place at risk - {'state': 'Haryana', 'city': 'Bhiwani', 'station': 'H.B. Colony, Bhiwani - HSPCB', 'pollutant_avg': 183.0}\n"
          ],
          "name": "stdout"
        }
      ]
    },
    {
      "cell_type": "code",
      "metadata": {
        "id": "cAu8FGZm2dnQ",
        "outputId": "254ff739-5e75-40eb-d9e1-7b0b4b8be116",
        "colab": {
          "base_uri": "https://localhost:8080/",
          "height": 275
        }
      },
      "source": [
        "# Historical High\n",
        "\n",
        "for singlePL in cleanDf['pollutant_id'].unique():\n",
        "  print(\"For pollutant - {} \".format(singlePL))\n",
        "  tempDF = cleanDf[(cleanDf[\"pollutant_id\"]== singlePL)].sort_values('pollutant_max', ascending=False).head(1).copy()\n",
        "  print(\" \\t Place at risk - {}\".format(tempDF[['state', 'city','station','pollutant_max']].to_dict(\"records\")[0]) )"
      ],
      "execution_count": 18,
      "outputs": [
        {
          "output_type": "stream",
          "text": [
            "For pollutant - PM2.5 \n",
            " \t Place at risk - {'state': 'Haryana', 'city': 'Manesar', 'station': 'Sector-2 IMT, Manesar - HSPCB', 'pollutant_max': 457.0}\n",
            "For pollutant - PM10 \n",
            " \t Place at risk - {'state': 'Delhi', 'city': 'Delhi', 'station': 'Dwarka-Sector 8, Delhi - DPCC ', 'pollutant_max': 500.0}\n",
            "For pollutant - NO2 \n",
            " \t Place at risk - {'state': 'Uttar_Pradesh', 'city': 'Meerut', 'station': 'Jai Bhim Nagar, Meerut - UPPCB', 'pollutant_max': 403.0}\n",
            "For pollutant - NH3 \n",
            " \t Place at risk - {'state': 'Rajasthan', 'city': 'Jaipur', 'station': 'Police Commissionerate, Jaipur - RSPCB', 'pollutant_max': 86.0}\n",
            "For pollutant - SO2 \n",
            " \t Place at risk - {'state': 'Haryana', 'city': 'Rohtak', 'station': 'MD University, Rohtak - HSPCB', 'pollutant_max': 133.0}\n",
            "For pollutant - CO \n",
            " \t Place at risk - {'state': 'Karnataka', 'city': 'Bengaluru', 'station': 'BWSSB Kadabesanahalli, Bengaluru - CPCB', 'pollutant_max': 196.0}\n",
            "For pollutant - OZONE \n",
            " \t Place at risk - {'state': 'Delhi', 'city': 'Delhi', 'station': 'Sirifort, Delhi - CPCB', 'pollutant_max': 278.0}\n"
          ],
          "name": "stdout"
        }
      ]
    },
    {
      "cell_type": "code",
      "metadata": {
        "id": "XXrEqGGDFLc0",
        "outputId": "2a11d404-609e-4961-b3ed-0e16920f59ad",
        "colab": {
          "base_uri": "https://localhost:8080/",
          "height": 275
        }
      },
      "source": [
        "# Low Risk of Each Pollutant today\n",
        "\n",
        "for singlePL in cleanDf['pollutant_id'].unique():\n",
        "  print(\"For pollutant - {} \".format(singlePL))\n",
        "  tempDF = cleanDf[(cleanDf[\"pollutant_id\"]== singlePL)].sort_values('pollutant_avg', ascending=True).head(1).copy()\n",
        "  print(\" \\t Place at risk - {}\".format(tempDF[['state', 'city','station','pollutant_avg']].to_dict(\"records\")[0]) )"
      ],
      "execution_count": 19,
      "outputs": [
        {
          "output_type": "stream",
          "text": [
            "For pollutant - PM2.5 \n",
            " \t Place at risk - {'state': 'Kerala', 'city': 'Eloor', 'station': 'Udyogamandal, Eloor - Kerala PCB', 'pollutant_avg': 6.0}\n",
            "For pollutant - PM10 \n",
            " \t Place at risk - {'state': 'Karnataka', 'city': 'Mysuru', 'station': 'Hebbal 1st Stage, Mysuru - KSPCB', 'pollutant_avg': 19.0}\n",
            "For pollutant - NO2 \n",
            " \t Place at risk - {'state': 'Maharashtra', 'city': 'Mumbai', 'station': 'Bandra, Mumbai - MPCB', 'pollutant_avg': 1.0}\n",
            "For pollutant - NH3 \n",
            " \t Place at risk - {'state': 'Kerala', 'city': 'Kollam', 'station': 'Polayathode, Kollam - Kerala PCB', 'pollutant_avg': 1.0}\n",
            "For pollutant - SO2 \n",
            " \t Place at risk - {'state': 'Telangana', 'city': 'Hyderabad', 'station': 'Central University, Hyderabad - TSPCB', 'pollutant_avg': 1.0}\n",
            "For pollutant - CO \n",
            " \t Place at risk - {'state': 'Gujarat', 'city': 'Vapi', 'station': 'Phase-1 GIDC, Vapi - GPCB', 'pollutant_avg': 3.0}\n",
            "For pollutant - OZONE \n",
            " \t Place at risk - {'state': 'Meghalaya', 'city': 'Shillong', 'station': 'Lumpyngngad, Shillong - Meghalaya PCB', 'pollutant_avg': 2.0}\n"
          ],
          "name": "stdout"
        }
      ]
    },
    {
      "cell_type": "code",
      "metadata": {
        "id": "NfMp6gGuFXIa",
        "outputId": "dc568d18-3fe0-44de-8387-615a62e2d3e1",
        "colab": {
          "base_uri": "https://localhost:8080/",
          "height": 255
        }
      },
      "source": [
        "# Low Risk of Each Pollutant today\n",
        "\n",
        "for singlePL in cleanDf['pollutant_id'].unique():\n",
        "  print(\"For pollutant - {} \".format(singlePL))\n",
        "  tempDF = cleanDf[(cleanDf[\"pollutant_id\"]== singlePL)].sort_values('pollutant_max', ascending=True).head(1).copy()\n",
        "  print(\" \\t Place at risk - {}\".format(tempDF[['state', 'city','station','pollutant_max']].to_dict(\"records\")[0]) )"
      ],
      "execution_count": 20,
      "outputs": [
        {
          "output_type": "stream",
          "text": [
            "For pollutant - PM2.5 \n",
            " \t Place at risk - {'state': 'Kerala', 'city': 'Eloor', 'station': 'Udyogamandal, Eloor - Kerala PCB', 'pollutant_max': 9.0}\n",
            "For pollutant - PM10 \n",
            " \t Place at risk - {'state': 'Kerala', 'city': 'Kannur', 'station': 'Thavakkara, Kannur - Kerala PCB', 'pollutant_max': 27.0}\n",
            "For pollutant - NO2 \n",
            " \t Place at risk - {'state': 'Maharashtra', 'city': 'Mumbai', 'station': 'Bandra, Mumbai - MPCB', 'pollutant_max': 1.0}\n",
            "For pollutant - NH3 \n",
            " \t Place at risk - {'state': 'Maharashtra', 'city': 'Mumbai', 'station': 'Worli, Mumbai - MPCB', 'pollutant_max': 1.0}\n",
            "For pollutant - SO2 \n",
            " \t Place at risk - {'state': 'Kerala', 'city': 'Kozhikode', 'station': 'Palayam, Kozhikode - Kerala PCB', 'pollutant_max': 3.0}\n",
            "For pollutant - CO \n",
            " \t Place at risk - {'state': 'Gujarat', 'city': 'Vapi', 'station': 'Phase-1 GIDC, Vapi - GPCB', 'pollutant_max': 5.0}\n",
            "For pollutant - OZONE \n",
            " \t Place at risk - {'state': 'Bihar', 'city': 'Hajipur', 'station': 'Industrial Area, Hajipur - BSPCB', 'pollutant_max': 2.0}\n"
          ],
          "name": "stdout"
        }
      ]
    },
    {
      "cell_type": "code",
      "metadata": {
        "id": "MInXUOk6Fe7l"
      },
      "source": [
        ""
      ],
      "execution_count": 20,
      "outputs": []
    },
    {
      "cell_type": "code",
      "metadata": {
        "id": "Mv1XXMGHr_ST",
        "outputId": "d1a24182-b53f-45af-ee42-5496e5b272e9",
        "colab": {
          "base_uri": "https://localhost:8080/",
          "height": 759
        }
      },
      "source": [
        "# searching a particular city\n",
        "\n",
        "cleanDf[cleanDf.apply(lambda x: True if (x.city).lower().find(\"pur\".lower()) >= 0 else False, axis=1)]"
      ],
      "execution_count": 21,
      "outputs": [
        {
          "output_type": "execute_result",
          "data": {
            "text/html": [
              "<div>\n",
              "<style scoped>\n",
              "    .dataframe tbody tr th:only-of-type {\n",
              "        vertical-align: middle;\n",
              "    }\n",
              "\n",
              "    .dataframe tbody tr th {\n",
              "        vertical-align: top;\n",
              "    }\n",
              "\n",
              "    .dataframe thead th {\n",
              "        text-align: right;\n",
              "    }\n",
              "</style>\n",
              "<table border=\"1\" class=\"dataframe\">\n",
              "  <thead>\n",
              "    <tr style=\"text-align: right;\">\n",
              "      <th></th>\n",
              "      <th>id</th>\n",
              "      <th>country</th>\n",
              "      <th>state</th>\n",
              "      <th>city</th>\n",
              "      <th>station</th>\n",
              "      <th>last_update</th>\n",
              "      <th>pollutant_id</th>\n",
              "      <th>pollutant_min</th>\n",
              "      <th>pollutant_max</th>\n",
              "      <th>pollutant_avg</th>\n",
              "      <th>pollutant_unit</th>\n",
              "    </tr>\n",
              "  </thead>\n",
              "  <tbody>\n",
              "    <tr>\n",
              "      <th>42</th>\n",
              "      <td>43</td>\n",
              "      <td>India</td>\n",
              "      <td>Bihar</td>\n",
              "      <td>Hajipur</td>\n",
              "      <td>Industrial Area, Hajipur - BSPCB</td>\n",
              "      <td>20-10-2020 10:00:00</td>\n",
              "      <td>PM2.5</td>\n",
              "      <td>90.0</td>\n",
              "      <td>328.0</td>\n",
              "      <td>195.0</td>\n",
              "      <td>NA</td>\n",
              "    </tr>\n",
              "    <tr>\n",
              "      <th>43</th>\n",
              "      <td>44</td>\n",
              "      <td>India</td>\n",
              "      <td>Bihar</td>\n",
              "      <td>Hajipur</td>\n",
              "      <td>Industrial Area, Hajipur - BSPCB</td>\n",
              "      <td>20-10-2020 10:00:00</td>\n",
              "      <td>PM10</td>\n",
              "      <td>88.0</td>\n",
              "      <td>203.0</td>\n",
              "      <td>141.0</td>\n",
              "      <td>NA</td>\n",
              "    </tr>\n",
              "    <tr>\n",
              "      <th>44</th>\n",
              "      <td>45</td>\n",
              "      <td>India</td>\n",
              "      <td>Bihar</td>\n",
              "      <td>Hajipur</td>\n",
              "      <td>Industrial Area, Hajipur - BSPCB</td>\n",
              "      <td>20-10-2020 10:00:00</td>\n",
              "      <td>NO2</td>\n",
              "      <td>17.0</td>\n",
              "      <td>33.0</td>\n",
              "      <td>24.0</td>\n",
              "      <td>NA</td>\n",
              "    </tr>\n",
              "    <tr>\n",
              "      <th>45</th>\n",
              "      <td>46</td>\n",
              "      <td>India</td>\n",
              "      <td>Bihar</td>\n",
              "      <td>Hajipur</td>\n",
              "      <td>Industrial Area, Hajipur - BSPCB</td>\n",
              "      <td>20-10-2020 10:00:00</td>\n",
              "      <td>NH3</td>\n",
              "      <td>1.0</td>\n",
              "      <td>2.0</td>\n",
              "      <td>1.0</td>\n",
              "      <td>NA</td>\n",
              "    </tr>\n",
              "    <tr>\n",
              "      <th>46</th>\n",
              "      <td>47</td>\n",
              "      <td>India</td>\n",
              "      <td>Bihar</td>\n",
              "      <td>Hajipur</td>\n",
              "      <td>Industrial Area, Hajipur - BSPCB</td>\n",
              "      <td>20-10-2020 10:00:00</td>\n",
              "      <td>SO2</td>\n",
              "      <td>3.0</td>\n",
              "      <td>7.0</td>\n",
              "      <td>5.0</td>\n",
              "      <td>NA</td>\n",
              "    </tr>\n",
              "    <tr>\n",
              "      <th>...</th>\n",
              "      <td>...</td>\n",
              "      <td>...</td>\n",
              "      <td>...</td>\n",
              "      <td>...</td>\n",
              "      <td>...</td>\n",
              "      <td>...</td>\n",
              "      <td>...</td>\n",
              "      <td>...</td>\n",
              "      <td>...</td>\n",
              "      <td>...</td>\n",
              "      <td>...</td>\n",
              "    </tr>\n",
              "    <tr>\n",
              "      <th>1250</th>\n",
              "      <td>1251</td>\n",
              "      <td>India</td>\n",
              "      <td>Uttar_Pradesh</td>\n",
              "      <td>Hapur</td>\n",
              "      <td>Anand Vihar, Hapur - UPPCB</td>\n",
              "      <td>20-10-2020 10:00:00</td>\n",
              "      <td>OZONE</td>\n",
              "      <td>1.0</td>\n",
              "      <td>2.0</td>\n",
              "      <td>2.0</td>\n",
              "      <td>NA</td>\n",
              "    </tr>\n",
              "    <tr>\n",
              "      <th>1251</th>\n",
              "      <td>1252</td>\n",
              "      <td>India</td>\n",
              "      <td>Uttar_Pradesh</td>\n",
              "      <td>Kanpur</td>\n",
              "      <td>Nehru Nagar, Kanpur - UPPCB</td>\n",
              "      <td>20-10-2020 10:00:00</td>\n",
              "      <td>PM2.5</td>\n",
              "      <td>124.0</td>\n",
              "      <td>307.0</td>\n",
              "      <td>242.0</td>\n",
              "      <td>NA</td>\n",
              "    </tr>\n",
              "    <tr>\n",
              "      <th>1252</th>\n",
              "      <td>1253</td>\n",
              "      <td>India</td>\n",
              "      <td>Uttar_Pradesh</td>\n",
              "      <td>Kanpur</td>\n",
              "      <td>Nehru Nagar, Kanpur - UPPCB</td>\n",
              "      <td>20-10-2020 10:00:00</td>\n",
              "      <td>NO2</td>\n",
              "      <td>37.0</td>\n",
              "      <td>277.0</td>\n",
              "      <td>85.0</td>\n",
              "      <td>NA</td>\n",
              "    </tr>\n",
              "    <tr>\n",
              "      <th>1253</th>\n",
              "      <td>1254</td>\n",
              "      <td>India</td>\n",
              "      <td>Uttar_Pradesh</td>\n",
              "      <td>Kanpur</td>\n",
              "      <td>Nehru Nagar, Kanpur - UPPCB</td>\n",
              "      <td>20-10-2020 10:00:00</td>\n",
              "      <td>SO2</td>\n",
              "      <td>5.0</td>\n",
              "      <td>12.0</td>\n",
              "      <td>8.0</td>\n",
              "      <td>NA</td>\n",
              "    </tr>\n",
              "    <tr>\n",
              "      <th>1254</th>\n",
              "      <td>1255</td>\n",
              "      <td>India</td>\n",
              "      <td>Uttar_Pradesh</td>\n",
              "      <td>Kanpur</td>\n",
              "      <td>Nehru Nagar, Kanpur - UPPCB</td>\n",
              "      <td>20-10-2020 10:00:00</td>\n",
              "      <td>OZONE</td>\n",
              "      <td>17.0</td>\n",
              "      <td>122.0</td>\n",
              "      <td>65.0</td>\n",
              "      <td>NA</td>\n",
              "    </tr>\n",
              "  </tbody>\n",
              "</table>\n",
              "<p>130 rows × 11 columns</p>\n",
              "</div>"
            ],
            "text/plain": [
              "        id country          state  ... pollutant_max pollutant_avg pollutant_unit\n",
              "42      43   India          Bihar  ...         328.0         195.0             NA\n",
              "43      44   India          Bihar  ...         203.0         141.0             NA\n",
              "44      45   India          Bihar  ...          33.0          24.0             NA\n",
              "45      46   India          Bihar  ...           2.0           1.0             NA\n",
              "46      47   India          Bihar  ...           7.0           5.0             NA\n",
              "...    ...     ...            ...  ...           ...           ...            ...\n",
              "1250  1251   India  Uttar_Pradesh  ...           2.0           2.0             NA\n",
              "1251  1252   India  Uttar_Pradesh  ...         307.0         242.0             NA\n",
              "1252  1253   India  Uttar_Pradesh  ...         277.0          85.0             NA\n",
              "1253  1254   India  Uttar_Pradesh  ...          12.0           8.0             NA\n",
              "1254  1255   India  Uttar_Pradesh  ...         122.0          65.0             NA\n",
              "\n",
              "[130 rows x 11 columns]"
            ]
          },
          "metadata": {
            "tags": []
          },
          "execution_count": 21
        }
      ]
    },
    {
      "cell_type": "code",
      "metadata": {
        "id": "DbJFXDJzFfR9"
      },
      "source": [
        ""
      ],
      "execution_count": 21,
      "outputs": []
    }
  ]
}