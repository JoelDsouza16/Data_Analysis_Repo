{
 "cells": [
  {
   "cell_type": "markdown",
   "metadata": {
    "id": "Eoj6Fx_JGUib"
   },
   "source": [
    "# Air Quality Control\n",
    "#### India 2020\n",
    "\n",
    "https://data.gov.in/resources/real-time-air-quality-index-various-locations/api"
   ]
  },
  {
   "cell_type": "code",
   "execution_count": 1,
   "metadata": {
    "id": "wGrwDei3b4EE"
   },
   "outputs": [],
   "source": [
    "# Used for fetching Data from the source\n",
    "import requests\n",
    "\n",
    "# Used for Data Wrangling & Analysis Task \n",
    "import pandas as pd"
   ]
  },
  {
   "cell_type": "markdown",
   "metadata": {
    "id": "V9wmPSpqHF9g"
   },
   "source": [
    "## Fetching data ..."
   ]
  },
  {
   "cell_type": "code",
   "execution_count": 2,
   "metadata": {
    "colab": {
     "base_uri": "https://localhost:8080/",
     "height": 51
    },
    "id": "Ipv4kgCvdbdj",
    "outputId": "1214ead4-4ad4-4ab6-ae4c-e2f8960f3877"
   },
   "outputs": [
    {
     "name": "stdout",
     "output_type": "stream",
     "text": [
      "Data Fetch - Initiated\n",
      "Data Fetch - Complete\n"
     ]
    }
   ],
   "source": [
    "apiVal = {\n",
    "    'api-key' : '579b464db66ec23bdd000001cdd3946e44ce4aad7209ff7b23ac571b',\n",
    "    'format' : 'json',\n",
    "    'limit' : '10'\n",
    "}\n",
    "\n",
    "print(\"Data Fetch - Initiated\")\n",
    "\n",
    "listOfRecords = []\n",
    "airQualityRecords = []\n",
    "for i in range(0, 1500, 10): # Values are set based on the API requirements.\n",
    "  responseObject = requests.get('https://api.data.gov.in/resource/3b01bcb8-0b14-4abf-b6f2-c1bfd384ba69?api-key={}&format={}&offset={}&limit={}'.format( apiVal['api-key'],apiVal['format'], i,apiVal['limit']))\n",
    "  if responseObject.status_code == 200:\n",
    "    listOfRecords.append(responseObject.json())\n",
    "    airQualityRecords.extend(responseObject.json()[\"records\"])\n",
    "  else:\n",
    "    break\n",
    "\n",
    "print(\"Data Fetch - Complete\")"
   ]
  },
  {
   "cell_type": "code",
   "execution_count": 3,
   "metadata": {
    "colab": {
     "base_uri": "https://localhost:8080/",
     "height": 34
    },
    "id": "Mwj2kmJFdZ97",
    "outputId": "d56c69f9-72ed-4fa1-b43b-103b8e14a2e0"
   },
   "outputs": [
    {
     "name": "stdout",
     "output_type": "stream",
     "text": [
      "No of Requests Made :: 150 \t Total Data Points Fetched:: 1409 \t \n"
     ]
    }
   ],
   "source": [
    "print( \"No of Requests Made :: {} \\t Total Data Points Fetched:: {} \\t \".format(len(listOfRecords), len(airQualityRecords)) )"
   ]
  },
  {
   "cell_type": "code",
   "execution_count": 4,
   "metadata": {
    "id": "WXy4x4QNjngP"
   },
   "outputs": [],
   "source": [
    "# Storing data into a structured format\n",
    "dfData = pd.DataFrame(airQualityRecords)"
   ]
  },
  {
   "cell_type": "code",
   "execution_count": 5,
   "metadata": {
    "colab": {
     "base_uri": "https://localhost:8080/",
     "height": 323
    },
    "id": "dQ3gYl_u3PHi",
    "outputId": "3944e15c-7d65-437e-e80f-cc42668ce21e"
   },
   "outputs": [
    {
     "name": "stdout",
     "output_type": "stream",
     "text": [
      "<class 'pandas.core.frame.DataFrame'>\n",
      "RangeIndex: 1409 entries, 0 to 1408\n",
      "Data columns (total 11 columns):\n",
      " #   Column          Non-Null Count  Dtype \n",
      "---  ------          --------------  ----- \n",
      " 0   id              1409 non-null   object\n",
      " 1   country         1409 non-null   object\n",
      " 2   state           1409 non-null   object\n",
      " 3   city            1409 non-null   object\n",
      " 4   station         1409 non-null   object\n",
      " 5   last_update     1409 non-null   object\n",
      " 6   pollutant_id    1409 non-null   object\n",
      " 7   pollutant_min   1409 non-null   object\n",
      " 8   pollutant_max   1409 non-null   object\n",
      " 9   pollutant_avg   1409 non-null   object\n",
      " 10  pollutant_unit  1409 non-null   object\n",
      "dtypes: object(11)\n",
      "memory usage: 121.2+ KB\n"
     ]
    }
   ],
   "source": [
    "# Looking at its summary \n",
    "dfData.info()"
   ]
  },
  {
   "cell_type": "code",
   "execution_count": 6,
   "metadata": {
    "colab": {
     "base_uri": "https://localhost:8080/",
     "height": 179
    },
    "id": "a-J3UYhJrwjr",
    "outputId": "272544e3-21a1-4d89-fc42-e9788b5fc99b"
   },
   "outputs": [
    {
     "data": {
      "text/html": [
       "<div>\n",
       "<style scoped>\n",
       "    .dataframe tbody tr th:only-of-type {\n",
       "        vertical-align: middle;\n",
       "    }\n",
       "\n",
       "    .dataframe tbody tr th {\n",
       "        vertical-align: top;\n",
       "    }\n",
       "\n",
       "    .dataframe thead th {\n",
       "        text-align: right;\n",
       "    }\n",
       "</style>\n",
       "<table border=\"1\" class=\"dataframe\">\n",
       "  <thead>\n",
       "    <tr style=\"text-align: right;\">\n",
       "      <th></th>\n",
       "      <th>id</th>\n",
       "      <th>country</th>\n",
       "      <th>state</th>\n",
       "      <th>city</th>\n",
       "      <th>station</th>\n",
       "      <th>last_update</th>\n",
       "      <th>pollutant_id</th>\n",
       "      <th>pollutant_min</th>\n",
       "      <th>pollutant_max</th>\n",
       "      <th>pollutant_avg</th>\n",
       "      <th>pollutant_unit</th>\n",
       "    </tr>\n",
       "  </thead>\n",
       "  <tbody>\n",
       "    <tr>\n",
       "      <th>0</th>\n",
       "      <td>1</td>\n",
       "      <td>India</td>\n",
       "      <td>Andhra_Pradesh</td>\n",
       "      <td>Amaravati</td>\n",
       "      <td>Secretariat, Amaravati - APPCB</td>\n",
       "      <td>22-10-2020 02:00:00</td>\n",
       "      <td>PM2.5</td>\n",
       "      <td>28</td>\n",
       "      <td>92</td>\n",
       "      <td>49</td>\n",
       "      <td>NA</td>\n",
       "    </tr>\n",
       "    <tr>\n",
       "      <th>1</th>\n",
       "      <td>2</td>\n",
       "      <td>India</td>\n",
       "      <td>Andhra_Pradesh</td>\n",
       "      <td>Amaravati</td>\n",
       "      <td>Secretariat, Amaravati - APPCB</td>\n",
       "      <td>22-10-2020 02:00:00</td>\n",
       "      <td>PM10</td>\n",
       "      <td>32</td>\n",
       "      <td>100</td>\n",
       "      <td>55</td>\n",
       "      <td>NA</td>\n",
       "    </tr>\n",
       "  </tbody>\n",
       "</table>\n",
       "</div>"
      ],
      "text/plain": [
       "  id country           state       city                         station  \\\n",
       "0  1   India  Andhra_Pradesh  Amaravati  Secretariat, Amaravati - APPCB   \n",
       "1  2   India  Andhra_Pradesh  Amaravati  Secretariat, Amaravati - APPCB   \n",
       "\n",
       "           last_update pollutant_id pollutant_min pollutant_max pollutant_avg  \\\n",
       "0  22-10-2020 02:00:00        PM2.5            28            92            49   \n",
       "1  22-10-2020 02:00:00         PM10            32           100            55   \n",
       "\n",
       "  pollutant_unit  \n",
       "0             NA  \n",
       "1             NA  "
      ]
     },
     "execution_count": 6,
     "metadata": {},
     "output_type": "execute_result"
    }
   ],
   "source": [
    "# Exploring the initial records\n",
    "dfData.head(2)"
   ]
  },
  {
   "cell_type": "code",
   "execution_count": 7,
   "metadata": {
    "colab": {
     "base_uri": "https://localhost:8080/",
     "height": 34
    },
    "id": "LmHwzYO83TIA",
    "outputId": "7e6c8f44-6c65-4e9e-8f05-0c73712c6cd8"
   },
   "outputs": [
    {
     "data": {
      "text/plain": [
       "77"
      ]
     },
     "execution_count": 7,
     "metadata": {},
     "output_type": "execute_result"
    }
   ],
   "source": [
    "# Checking for irregular data\n",
    "len(dfData[ (dfData.pollutant_min == 'NA') | (dfData.pollutant_max == 'NA') | (dfData.pollutant_avg == 'NA')])"
   ]
  },
  {
   "cell_type": "code",
   "execution_count": 8,
   "metadata": {
    "id": "k7-7CFxh4iU-"
   },
   "outputs": [],
   "source": [
    "# Cleaning the data\n",
    "cleanDf = dfData[ ~(dfData.pollutant_min == 'NA') | ~(dfData.pollutant_max == 'NA') | ~(dfData.pollutant_avg == 'NA')].copy()"
   ]
  },
  {
   "cell_type": "code",
   "execution_count": 9,
   "metadata": {
    "colab": {
     "base_uri": "https://localhost:8080/",
     "height": 34
    },
    "id": "K-fb6W9Otygv",
    "outputId": "f44dd3f6-639e-4bd6-bd6f-32107dbb1073"
   },
   "outputs": [
    {
     "data": {
      "text/plain": [
       "(1332, 11)"
      ]
     },
     "execution_count": 9,
     "metadata": {},
     "output_type": "execute_result"
    }
   ],
   "source": [
    "cleanDf.shape"
   ]
  },
  {
   "cell_type": "code",
   "execution_count": 10,
   "metadata": {
    "colab": {
     "base_uri": "https://localhost:8080/",
     "height": 323
    },
    "id": "KQM01NJw5aeY",
    "outputId": "c0789b13-69d7-4bdc-e207-a903ef3eab50"
   },
   "outputs": [
    {
     "name": "stdout",
     "output_type": "stream",
     "text": [
      "<class 'pandas.core.frame.DataFrame'>\n",
      "Int64Index: 1332 entries, 0 to 1408\n",
      "Data columns (total 11 columns):\n",
      " #   Column          Non-Null Count  Dtype \n",
      "---  ------          --------------  ----- \n",
      " 0   id              1332 non-null   object\n",
      " 1   country         1332 non-null   object\n",
      " 2   state           1332 non-null   object\n",
      " 3   city            1332 non-null   object\n",
      " 4   station         1332 non-null   object\n",
      " 5   last_update     1332 non-null   object\n",
      " 6   pollutant_id    1332 non-null   object\n",
      " 7   pollutant_min   1332 non-null   object\n",
      " 8   pollutant_max   1332 non-null   object\n",
      " 9   pollutant_avg   1332 non-null   object\n",
      " 10  pollutant_unit  1332 non-null   object\n",
      "dtypes: object(11)\n",
      "memory usage: 124.9+ KB\n"
     ]
    }
   ],
   "source": [
    "cleanDf.info()"
   ]
  },
  {
   "cell_type": "code",
   "execution_count": 11,
   "metadata": {
    "id": "HgH-xve15e6I"
   },
   "outputs": [],
   "source": [
    "# Handling numerical data\n",
    "cleanDf['pollutant_min'] = cleanDf['pollutant_min'].astype(float)\n",
    "cleanDf['pollutant_max'] = cleanDf['pollutant_max'].astype(float)\n",
    "cleanDf['pollutant_avg'] = cleanDf['pollutant_avg'].astype(float)"
   ]
  },
  {
   "cell_type": "code",
   "execution_count": 12,
   "metadata": {
    "colab": {
     "base_uri": "https://localhost:8080/",
     "height": 34
    },
    "id": "r-wd_EvhsSmd",
    "outputId": "5de11895-9591-4290-ca95-3f1495775850"
   },
   "outputs": [
    {
     "data": {
      "text/plain": [
       "122"
      ]
     },
     "execution_count": 12,
     "metadata": {},
     "output_type": "execute_result"
    }
   ],
   "source": [
    "cleanDf.city.nunique()"
   ]
  },
  {
   "cell_type": "markdown",
   "metadata": {
    "id": "HcBjSpx1JGT7"
   },
   "source": [
    "### Story Telling"
   ]
  },
  {
   "cell_type": "code",
   "execution_count": 13,
   "metadata": {
    "colab": {
     "base_uri": "https://localhost:8080/",
     "height": 561
    },
    "id": "3OlVP1qPgsrj",
    "outputId": "35546b1f-7c43-4ca3-eb88-c4c56c69b90d"
   },
   "outputs": [
    {
     "name": "stdout",
     "output_type": "stream",
     "text": [
      "Data Comprises of :: -\n",
      "\n",
      " \n",
      "No of Countries :: 1\n",
      "\t Countries :: ['India']\n",
      "No of States :: 20\n",
      "\t States :: ['Andhra_Pradesh' 'Assam' 'Bihar' 'Chandigarh' 'Delhi' 'Gujarat' 'Haryana'\n",
      " 'Karnataka' 'Kerala' 'Madhya Pradesh' 'Maharashtra' 'Meghalaya'\n",
      " 'Nagaland' 'Odisha' 'Punjab' 'Rajasthan' 'TamilNadu' 'Telangana'\n",
      " 'Uttar_Pradesh' 'West_Bengal']\n",
      "No of Cities :: 122\n",
      "\t Cities :: ['Amaravati' 'Rajamahendravaram' 'Tirupati' 'Visakhapatnam' 'Guwahati'\n",
      " 'Gaya' 'Hajipur' 'Muzaffarpur' 'Patna' 'Chandigarh' 'Delhi' 'Ahmedabad'\n",
      " 'Ankleshwar' 'Nandesari' 'Vapi' 'Vatva' 'Ambala' 'Bahadurgarh'\n",
      " 'Ballabgarh' 'Bhiwani' 'Charkhi Dadri' 'Dharuhera' 'Faridabad'\n",
      " 'Fatehabad' 'Gurugram' 'Hisar' 'Jind' 'Kaithal' 'Karnal' 'Kurukshetra'\n",
      " 'Mandikhera' 'Manesar' 'Narnaul' 'Palwal' 'Panchkula' 'Panipat' 'Rohtak'\n",
      " 'Sirsa' 'Sonipat' 'Yamunanagar' 'Bagalkot' 'Bengaluru' 'Chikkaballapur'\n",
      " 'Chikkamagaluru' 'Hubballi' 'Kalaburgi' 'Mysuru' 'Ramanagara'\n",
      " 'Vijayapura' 'Yadgir' 'Eloor' 'Ernakulam' 'Kannur' 'Kollam' 'Kozhikode'\n",
      " 'Thiruvananthapuram' 'Thrissur' 'Bhopal' 'Damoh' 'Dewas' 'Gwalior'\n",
      " 'Indore' 'Jabalpur' 'Katni' 'Maihar' 'Mandideep' 'Pithampur' 'Ratlam'\n",
      " 'Sagar' 'Satna' 'Singrauli' 'Ujjain' 'Aurangabad' 'Chandrapur' 'Kalyan'\n",
      " 'Mumbai' 'Nagpur' 'Nashik' 'Navi Mumbai' 'Pune' 'Solapur' 'Thane'\n",
      " 'Shillong' 'Kohima' 'Brajrajnagar' 'Talcher' 'Amritsar' 'Bathinda'\n",
      " 'Jalandhar' 'Khanna' 'Ludhiana' 'Mandi Gobindgarh' 'Patiala' 'Rupnagar'\n",
      " 'Ajmer' 'Alwar' 'Bhiwadi' 'Jaipur' 'Jodhpur' 'Kota' 'Pali' 'Udaipur'\n",
      " 'Chennai' 'Coimbatore' 'Hyderabad' 'Agra' 'Baghpat' 'Bulandshahr'\n",
      " 'Ghaziabad' 'Greater Noida' 'Hapur' 'Kanpur' 'Lucknow' 'Meerut'\n",
      " 'Moradabad' 'Muzaffarnagar' 'Noida' 'Varanasi' 'Asansol' 'Howrah'\n",
      " 'Kolkata' 'Siliguri']\n",
      "No of Station :: 216\n"
     ]
    }
   ],
   "source": [
    "print(\"Data Comprises of :: -\\n\\n \")\n",
    "\n",
    "print(\"No of Countries :: {}\".format( cleanDf[\"country\"].nunique() ) )\n",
    "print(\"\\t Countries :: {}\".format( cleanDf[\"country\"].unique() ) )\n",
    "print(\"No of States :: {}\".format( cleanDf[\"state\"].nunique() ) )\n",
    "print(\"\\t States :: {}\".format( cleanDf[\"state\"].unique() ) )\n",
    "\n",
    "print(\"No of Cities :: {}\".format( cleanDf[\"city\"].nunique() ) )\n",
    "print(\"\\t Cities :: {}\".format( cleanDf[\"city\"].unique() ) )\n",
    "print(\"No of Station :: {}\".format( cleanDf[\"station\"].nunique() ) )\n",
    "# print(\"\\t Station :: {}\".format( cleanDf[\"station\"].unique() ) ) // list is long"
   ]
  },
  {
   "cell_type": "code",
   "execution_count": 14,
   "metadata": {
    "colab": {
     "base_uri": "https://localhost:8080/",
     "height": 34
    },
    "id": "9a-DBCPfgswX",
    "outputId": "6c624320-2fd2-43d4-a421-8c61316c4a45"
   },
   "outputs": [
    {
     "name": "stdout",
     "output_type": "stream",
     "text": [
      " Different pollutants captured - ['PM2.5' 'PM10' 'NO2' 'NH3' 'SO2' 'CO' 'OZONE']\n"
     ]
    }
   ],
   "source": [
    "print(\" Different pollutants captured - {}\".format(cleanDf[\"pollutant_id\"].unique()))"
   ]
  },
  {
   "cell_type": "code",
   "execution_count": 15,
   "metadata": {
    "colab": {
     "base_uri": "https://localhost:8080/",
     "height": 504
    },
    "id": "Q_p9hgPpgsuK",
    "outputId": "8246b094-7bca-404f-d617-b46c71925b71"
   },
   "outputs": [
    {
     "name": "stderr",
     "output_type": "stream",
     "text": [
      "/usr/local/lib/python3.6/dist-packages/ipykernel_launcher.py:3: FutureWarning: Indexing with multiple keys (implicitly converted to a tuple of keys) will be deprecated, use a list instead.\n",
      "  This is separate from the ipykernel package so we can avoid doing imports until\n"
     ]
    },
    {
     "data": {
      "text/html": [
       "<div>\n",
       "<style scoped>\n",
       "    .dataframe tbody tr th:only-of-type {\n",
       "        vertical-align: middle;\n",
       "    }\n",
       "\n",
       "    .dataframe tbody tr th {\n",
       "        vertical-align: top;\n",
       "    }\n",
       "\n",
       "    .dataframe thead th {\n",
       "        text-align: right;\n",
       "    }\n",
       "</style>\n",
       "<table border=\"1\" class=\"dataframe\">\n",
       "  <thead>\n",
       "    <tr style=\"text-align: right;\">\n",
       "      <th></th>\n",
       "      <th></th>\n",
       "      <th>pollutant_min</th>\n",
       "      <th>pollutant_avg</th>\n",
       "      <th>pollutant_max</th>\n",
       "    </tr>\n",
       "    <tr>\n",
       "      <th>pollutant_id</th>\n",
       "      <th>city</th>\n",
       "      <th></th>\n",
       "      <th></th>\n",
       "      <th></th>\n",
       "    </tr>\n",
       "  </thead>\n",
       "  <tbody>\n",
       "    <tr>\n",
       "      <th rowspan=\"5\" valign=\"top\">CO</th>\n",
       "      <th>Agra</th>\n",
       "      <td>1.0</td>\n",
       "      <td>57.0</td>\n",
       "      <td>125.0</td>\n",
       "    </tr>\n",
       "    <tr>\n",
       "      <th>Ahmedabad</th>\n",
       "      <td>14.0</td>\n",
       "      <td>39.0</td>\n",
       "      <td>105.0</td>\n",
       "    </tr>\n",
       "    <tr>\n",
       "      <th>Ajmer</th>\n",
       "      <td>42.0</td>\n",
       "      <td>58.0</td>\n",
       "      <td>103.0</td>\n",
       "    </tr>\n",
       "    <tr>\n",
       "      <th>Alwar</th>\n",
       "      <td>21.0</td>\n",
       "      <td>42.0</td>\n",
       "      <td>113.0</td>\n",
       "    </tr>\n",
       "    <tr>\n",
       "      <th>Amaravati</th>\n",
       "      <td>26.0</td>\n",
       "      <td>34.0</td>\n",
       "      <td>49.0</td>\n",
       "    </tr>\n",
       "    <tr>\n",
       "      <th>...</th>\n",
       "      <th>...</th>\n",
       "      <td>...</td>\n",
       "      <td>...</td>\n",
       "      <td>...</td>\n",
       "    </tr>\n",
       "    <tr>\n",
       "      <th rowspan=\"5\" valign=\"top\">SO2</th>\n",
       "      <th>Vapi</th>\n",
       "      <td>18.0</td>\n",
       "      <td>19.0</td>\n",
       "      <td>20.0</td>\n",
       "    </tr>\n",
       "    <tr>\n",
       "      <th>Vatva</th>\n",
       "      <td>12.0</td>\n",
       "      <td>34.0</td>\n",
       "      <td>103.0</td>\n",
       "    </tr>\n",
       "    <tr>\n",
       "      <th>Vijayapura</th>\n",
       "      <td>1.0</td>\n",
       "      <td>3.0</td>\n",
       "      <td>5.0</td>\n",
       "    </tr>\n",
       "    <tr>\n",
       "      <th>Visakhapatnam</th>\n",
       "      <td>1.0</td>\n",
       "      <td>5.0</td>\n",
       "      <td>10.0</td>\n",
       "    </tr>\n",
       "    <tr>\n",
       "      <th>Yamunanagar</th>\n",
       "      <td>4.0</td>\n",
       "      <td>10.0</td>\n",
       "      <td>104.0</td>\n",
       "    </tr>\n",
       "  </tbody>\n",
       "</table>\n",
       "<p>759 rows × 3 columns</p>\n",
       "</div>"
      ],
      "text/plain": [
       "                            pollutant_min  pollutant_avg  pollutant_max\n",
       "pollutant_id city                                                      \n",
       "CO           Agra                     1.0           57.0          125.0\n",
       "             Ahmedabad               14.0           39.0          105.0\n",
       "             Ajmer                   42.0           58.0          103.0\n",
       "             Alwar                   21.0           42.0          113.0\n",
       "             Amaravati               26.0           34.0           49.0\n",
       "...                                   ...            ...            ...\n",
       "SO2          Vapi                    18.0           19.0           20.0\n",
       "             Vatva                   12.0           34.0          103.0\n",
       "             Vijayapura               1.0            3.0            5.0\n",
       "             Visakhapatnam            1.0            5.0           10.0\n",
       "             Yamunanagar              4.0           10.0          104.0\n",
       "\n",
       "[759 rows x 3 columns]"
      ]
     },
     "execution_count": 15,
     "metadata": {},
     "output_type": "execute_result"
    }
   ],
   "source": [
    "# Further diving into the data\n",
    "\n",
    "cleanDf.groupby(['pollutant_id', 'city'])['pollutant_min',\t'pollutant_avg','pollutant_max'].sum()"
   ]
  },
  {
   "cell_type": "code",
   "execution_count": 16,
   "metadata": {
    "colab": {
     "base_uri": "https://localhost:8080/",
     "height": 504
    },
    "id": "P8FXkY4N2SQ_",
    "outputId": "01751ea7-7445-436a-b4da-e5b083a4c4d6"
   },
   "outputs": [
    {
     "name": "stderr",
     "output_type": "stream",
     "text": [
      "/usr/local/lib/python3.6/dist-packages/ipykernel_launcher.py:1: FutureWarning: Indexing with multiple keys (implicitly converted to a tuple of keys) will be deprecated, use a list instead.\n",
      "  \"\"\"Entry point for launching an IPython kernel.\n"
     ]
    },
    {
     "data": {
      "text/html": [
       "<div>\n",
       "<style scoped>\n",
       "    .dataframe tbody tr th:only-of-type {\n",
       "        vertical-align: middle;\n",
       "    }\n",
       "\n",
       "    .dataframe tbody tr th {\n",
       "        vertical-align: top;\n",
       "    }\n",
       "\n",
       "    .dataframe thead th {\n",
       "        text-align: right;\n",
       "    }\n",
       "</style>\n",
       "<table border=\"1\" class=\"dataframe\">\n",
       "  <thead>\n",
       "    <tr style=\"text-align: right;\">\n",
       "      <th></th>\n",
       "      <th></th>\n",
       "      <th>pollutant_min</th>\n",
       "      <th>pollutant_avg</th>\n",
       "      <th>pollutant_max</th>\n",
       "    </tr>\n",
       "    <tr>\n",
       "      <th>city</th>\n",
       "      <th>pollutant_id</th>\n",
       "      <th></th>\n",
       "      <th></th>\n",
       "      <th></th>\n",
       "    </tr>\n",
       "  </thead>\n",
       "  <tbody>\n",
       "    <tr>\n",
       "      <th rowspan=\"5\" valign=\"top\">Agra</th>\n",
       "      <th>CO</th>\n",
       "      <td>1.0</td>\n",
       "      <td>57.0</td>\n",
       "      <td>125.0</td>\n",
       "    </tr>\n",
       "    <tr>\n",
       "      <th>NO2</th>\n",
       "      <td>24.0</td>\n",
       "      <td>73.0</td>\n",
       "      <td>123.0</td>\n",
       "    </tr>\n",
       "    <tr>\n",
       "      <th>OZONE</th>\n",
       "      <td>15.0</td>\n",
       "      <td>89.0</td>\n",
       "      <td>255.0</td>\n",
       "    </tr>\n",
       "    <tr>\n",
       "      <th>PM2.5</th>\n",
       "      <td>90.0</td>\n",
       "      <td>258.0</td>\n",
       "      <td>349.0</td>\n",
       "    </tr>\n",
       "    <tr>\n",
       "      <th>SO2</th>\n",
       "      <td>1.0</td>\n",
       "      <td>6.0</td>\n",
       "      <td>16.0</td>\n",
       "    </tr>\n",
       "    <tr>\n",
       "      <th>...</th>\n",
       "      <th>...</th>\n",
       "      <td>...</td>\n",
       "      <td>...</td>\n",
       "      <td>...</td>\n",
       "    </tr>\n",
       "    <tr>\n",
       "      <th rowspan=\"5\" valign=\"top\">Yamunanagar</th>\n",
       "      <th>NO2</th>\n",
       "      <td>3.0</td>\n",
       "      <td>59.0</td>\n",
       "      <td>116.0</td>\n",
       "    </tr>\n",
       "    <tr>\n",
       "      <th>OZONE</th>\n",
       "      <td>6.0</td>\n",
       "      <td>42.0</td>\n",
       "      <td>108.0</td>\n",
       "    </tr>\n",
       "    <tr>\n",
       "      <th>PM10</th>\n",
       "      <td>85.0</td>\n",
       "      <td>214.0</td>\n",
       "      <td>329.0</td>\n",
       "    </tr>\n",
       "    <tr>\n",
       "      <th>PM2.5</th>\n",
       "      <td>71.0</td>\n",
       "      <td>258.0</td>\n",
       "      <td>351.0</td>\n",
       "    </tr>\n",
       "    <tr>\n",
       "      <th>SO2</th>\n",
       "      <td>4.0</td>\n",
       "      <td>10.0</td>\n",
       "      <td>104.0</td>\n",
       "    </tr>\n",
       "  </tbody>\n",
       "</table>\n",
       "<p>759 rows × 3 columns</p>\n",
       "</div>"
      ],
      "text/plain": [
       "                          pollutant_min  pollutant_avg  pollutant_max\n",
       "city        pollutant_id                                             \n",
       "Agra        CO                      1.0           57.0          125.0\n",
       "            NO2                    24.0           73.0          123.0\n",
       "            OZONE                  15.0           89.0          255.0\n",
       "            PM2.5                  90.0          258.0          349.0\n",
       "            SO2                     1.0            6.0           16.0\n",
       "...                                 ...            ...            ...\n",
       "Yamunanagar NO2                     3.0           59.0          116.0\n",
       "            OZONE                   6.0           42.0          108.0\n",
       "            PM10                   85.0          214.0          329.0\n",
       "            PM2.5                  71.0          258.0          351.0\n",
       "            SO2                     4.0           10.0          104.0\n",
       "\n",
       "[759 rows x 3 columns]"
      ]
     },
     "execution_count": 16,
     "metadata": {},
     "output_type": "execute_result"
    }
   ],
   "source": [
    "cleanDf.groupby(['city','pollutant_id'])['pollutant_min',\t'pollutant_avg','pollutant_max'].sum()"
   ]
  },
  {
   "cell_type": "code",
   "execution_count": 17,
   "metadata": {
    "colab": {
     "base_uri": "https://localhost:8080/",
     "height": 275
    },
    "id": "31aLVP8v2dkl",
    "outputId": "0fcad3c9-b396-4f57-c307-051a39febd1e"
   },
   "outputs": [
    {
     "name": "stdout",
     "output_type": "stream",
     "text": [
      "\n",
      "::For pollutant - PM2.5 \n",
      " \t Place at high risk - \n",
      "{'state': 'Delhi', 'city': 'Delhi', 'station': 'Vivek Vihar, Delhi - DPCC', 'pollutant_avg': 345.0}\n",
      "\n",
      "::For pollutant - PM10 \n",
      " \t Place at high risk - \n",
      "{'state': 'Delhi', 'city': 'Delhi', 'station': 'Mundka, Delhi - DPCC', 'pollutant_avg': 404.0}\n",
      "\n",
      "::For pollutant - NO2 \n",
      " \t Place at high risk - \n",
      "{'state': 'Uttar_Pradesh', 'city': 'Meerut', 'station': 'Jai Bhim Nagar, Meerut - UPPCB', 'pollutant_avg': 243.0}\n",
      "\n",
      "::For pollutant - NH3 \n",
      " \t Place at high risk - \n",
      "{'state': 'Maharashtra', 'city': 'Mumbai', 'station': 'Sion, Mumbai - MPCB', 'pollutant_avg': 39.0}\n",
      "\n",
      "::For pollutant - SO2 \n",
      " \t Place at high risk - \n",
      "{'state': 'Haryana', 'city': 'Panipat', 'station': 'Sector-18, Panipat - HSPCB', 'pollutant_avg': 67.0}\n",
      "\n",
      "::For pollutant - CO \n",
      " \t Place at high risk - \n",
      "{'state': 'Gujarat', 'city': 'Nandesari', 'station': 'GIDC, Nandesari - Nandesari Ind. Association', 'pollutant_avg': 200.0}\n",
      "\n",
      "::For pollutant - OZONE \n",
      " \t Place at high risk - \n",
      "{'state': 'Uttar_Pradesh', 'city': 'Ghaziabad', 'station': 'Indirapuram, Ghaziabad - UPPCB', 'pollutant_avg': 279.0}\n"
     ]
    }
   ],
   "source": [
    "# High Risk of Each Pollutant today\n",
    "\n",
    "for singlePL in cleanDf['pollutant_id'].unique():\n",
    "    print(\"\\n::For pollutant - {} \".format(singlePL))\n",
    "    tempDF = cleanDf[(cleanDf[\"pollutant_id\"]== singlePL)].sort_values('pollutant_avg', ascending=False).head(1).copy()\n",
    "    print(\" \\t Place at high risk - \\n{}\".format(tempDF[['state', 'city','station','pollutant_avg']].to_dict(\"records\")[0]) )"
   ]
  },
  {
   "cell_type": "code",
   "execution_count": 18,
   "metadata": {
    "colab": {
     "base_uri": "https://localhost:8080/",
     "height": 275
    },
    "id": "cAu8FGZm2dnQ",
    "outputId": "254ff739-5e75-40eb-d9e1-7b0b4b8be116"
   },
   "outputs": [
    {
     "name": "stdout",
     "output_type": "stream",
     "text": [
      "\n",
      "::For pollutant - PM2.5 \n",
      " \t Place at high risk - \n",
      "{'state': 'Haryana', 'city': 'Ballabgarh', 'station': 'Nathu Colony, Ballabgarh - HSPCB', 'pollutant_max': 500.0}\n",
      "\n",
      "::For pollutant - PM10 \n",
      " \t Place at high risk - \n",
      "{'state': 'Delhi', 'city': 'Delhi', 'station': 'Sonia Vihar, Delhi - DPCC', 'pollutant_max': 500.0}\n",
      "\n",
      "::For pollutant - NO2 \n",
      " \t Place at high risk - \n",
      "{'state': 'Uttar_Pradesh', 'city': 'Meerut', 'station': 'Jai Bhim Nagar, Meerut - UPPCB', 'pollutant_max': 436.0}\n",
      "\n",
      "::For pollutant - NH3 \n",
      " \t Place at high risk - \n",
      "{'state': 'Maharashtra', 'city': 'Mumbai', 'station': 'Sion, Mumbai - MPCB', 'pollutant_max': 56.0}\n",
      "\n",
      "::For pollutant - SO2 \n",
      " \t Place at high risk - \n",
      "{'state': 'Madhya Pradesh', 'city': 'Pithampur', 'station': 'Sector-2 Industrial Area, Pithampur - MPPCB', 'pollutant_max': 125.0}\n",
      "\n",
      "::For pollutant - CO \n",
      " \t Place at high risk - \n",
      "{'state': 'Gujarat', 'city': 'Nandesari', 'station': 'GIDC, Nandesari - Nandesari Ind. Association', 'pollutant_max': 200.0}\n",
      "\n",
      "::For pollutant - OZONE \n",
      " \t Place at high risk - \n",
      "{'state': 'Uttar_Pradesh', 'city': 'Ghaziabad', 'station': 'Indirapuram, Ghaziabad - UPPCB', 'pollutant_max': 279.0}\n"
     ]
    }
   ],
   "source": [
    "# Historical High\n",
    "\n",
    "for singlePL in cleanDf['pollutant_id'].unique():\n",
    "    print(\"\\n::For pollutant - {} \".format(singlePL))\n",
    "    tempDF = cleanDf[(cleanDf[\"pollutant_id\"]== singlePL)].sort_values('pollutant_max', ascending=False).head(1).copy()\n",
    "    print(\" \\t Place at high risk - \\n{}\".format(tempDF[['state', 'city','station','pollutant_max']].to_dict(\"records\")[0]) )"
   ]
  },
  {
   "cell_type": "code",
   "execution_count": 19,
   "metadata": {
    "colab": {
     "base_uri": "https://localhost:8080/",
     "height": 275
    },
    "id": "XXrEqGGDFLc0",
    "outputId": "2a11d404-609e-4961-b3ed-0e16920f59ad"
   },
   "outputs": [
    {
     "name": "stdout",
     "output_type": "stream",
     "text": [
      "\n",
      "::For pollutant - PM2.5 \n",
      " \t Place at low risk - \n",
      "{'state': 'Kerala', 'city': 'Eloor', 'station': 'Udyogamandal, Eloor - Kerala PCB', 'pollutant_avg': 7.0}\n",
      "\n",
      "::For pollutant - PM10 \n",
      " \t Place at low risk - \n",
      "{'state': 'West_Bengal', 'city': 'Kolkata', 'station': 'Rabindra Sarobar, Kolkata - WBPCB', 'pollutant_avg': 14.0}\n",
      "\n",
      "::For pollutant - NO2 \n",
      " \t Place at low risk - \n",
      "{'state': 'Maharashtra', 'city': 'Mumbai', 'station': 'Bandra, Mumbai - MPCB', 'pollutant_avg': 1.0}\n",
      "\n",
      "::For pollutant - NH3 \n",
      " \t Place at low risk - \n",
      "{'state': 'Kerala', 'city': 'Kollam', 'station': 'Polayathode, Kollam - Kerala PCB', 'pollutant_avg': 1.0}\n",
      "\n",
      "::For pollutant - SO2 \n",
      " \t Place at low risk - \n",
      "{'state': 'Kerala', 'city': 'Kannur', 'station': 'Thavakkara, Kannur - Kerala PCB', 'pollutant_avg': 1.0}\n",
      "\n",
      "::For pollutant - CO \n",
      " \t Place at low risk - \n",
      "{'state': 'Madhya Pradesh', 'city': 'Damoh', 'station': 'Shrivastav Colony, Damoh - MPPCB', 'pollutant_avg': 4.0}\n",
      "\n",
      "::For pollutant - OZONE \n",
      " \t Place at low risk - \n",
      "{'state': 'Uttar_Pradesh', 'city': 'Hapur', 'station': 'Anand Vihar, Hapur - UPPCB', 'pollutant_avg': 2.0}\n"
     ]
    }
   ],
   "source": [
    "# Low Risk of Each Pollutant today\n",
    "\n",
    "for singlePL in cleanDf['pollutant_id'].unique():\n",
    "    print(\"\\n::For pollutant - {} \".format(singlePL))\n",
    "    tempDF = cleanDf[(cleanDf[\"pollutant_id\"]== singlePL)].sort_values('pollutant_avg', ascending=True).head(1).copy()\n",
    "    print(\" \\t Place at low risk - \\n{}\".format(tempDF[['state', 'city','station','pollutant_avg']].to_dict(\"records\")[0]) )"
   ]
  },
  {
   "cell_type": "code",
   "execution_count": 20,
   "metadata": {
    "colab": {
     "base_uri": "https://localhost:8080/",
     "height": 255
    },
    "id": "NfMp6gGuFXIa",
    "outputId": "dc568d18-3fe0-44de-8387-615a62e2d3e1"
   },
   "outputs": [
    {
     "name": "stdout",
     "output_type": "stream",
     "text": [
      "\n",
      ":: For pollutant - PM2.5 \n",
      " \t Place at Low risk - \n",
      "{'state': 'West_Bengal', 'city': 'Kolkata', 'station': 'Ballygunge, Kolkata - WBPCB', 'pollutant_max': 10.0}\n",
      "\n",
      ":: For pollutant - PM10 \n",
      " \t Place at Low risk - \n",
      "{'state': 'West_Bengal', 'city': 'Kolkata', 'station': 'Bidhannagar, Kolkata - WBPCB', 'pollutant_max': 21.0}\n",
      "\n",
      ":: For pollutant - NO2 \n",
      " \t Place at Low risk - \n",
      "{'state': 'Maharashtra', 'city': 'Mumbai', 'station': 'Bandra, Mumbai - MPCB', 'pollutant_max': 1.0}\n",
      "\n",
      ":: For pollutant - NH3 \n",
      " \t Place at Low risk - \n",
      "{'state': 'Maharashtra', 'city': 'Mumbai', 'station': 'Worli, Mumbai - MPCB', 'pollutant_max': 1.0}\n",
      "\n",
      ":: For pollutant - SO2 \n",
      " \t Place at Low risk - \n",
      "{'state': 'Gujarat', 'city': 'Nandesari', 'station': 'GIDC, Nandesari - Nandesari Ind. Association', 'pollutant_max': 2.0}\n",
      "\n",
      ":: For pollutant - CO \n",
      " \t Place at Low risk - \n",
      "{'state': 'Madhya Pradesh', 'city': 'Damoh', 'station': 'Shrivastav Colony, Damoh - MPPCB', 'pollutant_max': 5.0}\n",
      "\n",
      ":: For pollutant - OZONE \n",
      " \t Place at Low risk - \n",
      "{'state': 'Uttar_Pradesh', 'city': 'Hapur', 'station': 'Anand Vihar, Hapur - UPPCB', 'pollutant_max': 2.0}\n"
     ]
    }
   ],
   "source": [
    "# Low Risk of Each Pollutant today\n",
    "\n",
    "for singlePL in cleanDf['pollutant_id'].unique():\n",
    "    print(\"\\n:: For pollutant - {} \".format(singlePL))\n",
    "    tempDF = cleanDf[(cleanDf[\"pollutant_id\"]== singlePL)].sort_values('pollutant_max', ascending=True).head(1).copy()\n",
    "    print(\" \\t Place at Low risk - \\n{}\".format(tempDF[['state', 'city','station','pollutant_max']].to_dict(\"records\")[0]) )"
   ]
  },
  {
   "cell_type": "code",
   "execution_count": null,
   "metadata": {
    "id": "MInXUOk6Fe7l"
   },
   "outputs": [],
   "source": []
  },
  {
   "cell_type": "code",
   "execution_count": 21,
   "metadata": {
    "colab": {
     "base_uri": "https://localhost:8080/",
     "height": 759
    },
    "id": "Mv1XXMGHr_ST",
    "outputId": "d1a24182-b53f-45af-ee42-5496e5b272e9"
   },
   "outputs": [
    {
     "data": {
      "text/html": [
       "<div>\n",
       "<style scoped>\n",
       "    .dataframe tbody tr th:only-of-type {\n",
       "        vertical-align: middle;\n",
       "    }\n",
       "\n",
       "    .dataframe tbody tr th {\n",
       "        vertical-align: top;\n",
       "    }\n",
       "\n",
       "    .dataframe thead th {\n",
       "        text-align: right;\n",
       "    }\n",
       "</style>\n",
       "<table border=\"1\" class=\"dataframe\">\n",
       "  <thead>\n",
       "    <tr style=\"text-align: right;\">\n",
       "      <th></th>\n",
       "      <th>id</th>\n",
       "      <th>country</th>\n",
       "      <th>state</th>\n",
       "      <th>city</th>\n",
       "      <th>station</th>\n",
       "      <th>last_update</th>\n",
       "      <th>pollutant_id</th>\n",
       "      <th>pollutant_min</th>\n",
       "      <th>pollutant_max</th>\n",
       "      <th>pollutant_avg</th>\n",
       "      <th>pollutant_unit</th>\n",
       "    </tr>\n",
       "  </thead>\n",
       "  <tbody>\n",
       "    <tr>\n",
       "      <th>42</th>\n",
       "      <td>43</td>\n",
       "      <td>India</td>\n",
       "      <td>Bihar</td>\n",
       "      <td>Hajipur</td>\n",
       "      <td>Industrial Area, Hajipur - BSPCB</td>\n",
       "      <td>22-10-2020 02:00:00</td>\n",
       "      <td>PM2.5</td>\n",
       "      <td>47.0</td>\n",
       "      <td>286.0</td>\n",
       "      <td>169.0</td>\n",
       "      <td>NA</td>\n",
       "    </tr>\n",
       "    <tr>\n",
       "      <th>43</th>\n",
       "      <td>44</td>\n",
       "      <td>India</td>\n",
       "      <td>Bihar</td>\n",
       "      <td>Hajipur</td>\n",
       "      <td>Industrial Area, Hajipur - BSPCB</td>\n",
       "      <td>22-10-2020 02:00:00</td>\n",
       "      <td>PM10</td>\n",
       "      <td>56.0</td>\n",
       "      <td>156.0</td>\n",
       "      <td>120.0</td>\n",
       "      <td>NA</td>\n",
       "    </tr>\n",
       "    <tr>\n",
       "      <th>44</th>\n",
       "      <td>45</td>\n",
       "      <td>India</td>\n",
       "      <td>Bihar</td>\n",
       "      <td>Hajipur</td>\n",
       "      <td>Industrial Area, Hajipur - BSPCB</td>\n",
       "      <td>22-10-2020 02:00:00</td>\n",
       "      <td>NO2</td>\n",
       "      <td>16.0</td>\n",
       "      <td>21.0</td>\n",
       "      <td>18.0</td>\n",
       "      <td>NA</td>\n",
       "    </tr>\n",
       "    <tr>\n",
       "      <th>45</th>\n",
       "      <td>46</td>\n",
       "      <td>India</td>\n",
       "      <td>Bihar</td>\n",
       "      <td>Hajipur</td>\n",
       "      <td>Industrial Area, Hajipur - BSPCB</td>\n",
       "      <td>22-10-2020 02:00:00</td>\n",
       "      <td>NH3</td>\n",
       "      <td>1.0</td>\n",
       "      <td>2.0</td>\n",
       "      <td>1.0</td>\n",
       "      <td>NA</td>\n",
       "    </tr>\n",
       "    <tr>\n",
       "      <th>46</th>\n",
       "      <td>47</td>\n",
       "      <td>India</td>\n",
       "      <td>Bihar</td>\n",
       "      <td>Hajipur</td>\n",
       "      <td>Industrial Area, Hajipur - BSPCB</td>\n",
       "      <td>22-10-2020 02:00:00</td>\n",
       "      <td>SO2</td>\n",
       "      <td>3.0</td>\n",
       "      <td>6.0</td>\n",
       "      <td>5.0</td>\n",
       "      <td>NA</td>\n",
       "    </tr>\n",
       "    <tr>\n",
       "      <th>...</th>\n",
       "      <td>...</td>\n",
       "      <td>...</td>\n",
       "      <td>...</td>\n",
       "      <td>...</td>\n",
       "      <td>...</td>\n",
       "      <td>...</td>\n",
       "      <td>...</td>\n",
       "      <td>...</td>\n",
       "      <td>...</td>\n",
       "      <td>...</td>\n",
       "      <td>...</td>\n",
       "    </tr>\n",
       "    <tr>\n",
       "      <th>1243</th>\n",
       "      <td>1244</td>\n",
       "      <td>India</td>\n",
       "      <td>Uttar_Pradesh</td>\n",
       "      <td>Hapur</td>\n",
       "      <td>Anand Vihar, Hapur - UPPCB</td>\n",
       "      <td>22-10-2020 02:00:00</td>\n",
       "      <td>OZONE</td>\n",
       "      <td>1.0</td>\n",
       "      <td>2.0</td>\n",
       "      <td>2.0</td>\n",
       "      <td>NA</td>\n",
       "    </tr>\n",
       "    <tr>\n",
       "      <th>1244</th>\n",
       "      <td>1245</td>\n",
       "      <td>India</td>\n",
       "      <td>Uttar_Pradesh</td>\n",
       "      <td>Kanpur</td>\n",
       "      <td>Nehru Nagar, Kanpur - UPPCB</td>\n",
       "      <td>22-10-2020 02:00:00</td>\n",
       "      <td>PM2.5</td>\n",
       "      <td>73.0</td>\n",
       "      <td>331.0</td>\n",
       "      <td>249.0</td>\n",
       "      <td>NA</td>\n",
       "    </tr>\n",
       "    <tr>\n",
       "      <th>1245</th>\n",
       "      <td>1246</td>\n",
       "      <td>India</td>\n",
       "      <td>Uttar_Pradesh</td>\n",
       "      <td>Kanpur</td>\n",
       "      <td>Nehru Nagar, Kanpur - UPPCB</td>\n",
       "      <td>22-10-2020 02:00:00</td>\n",
       "      <td>NO2</td>\n",
       "      <td>47.0</td>\n",
       "      <td>324.0</td>\n",
       "      <td>128.0</td>\n",
       "      <td>NA</td>\n",
       "    </tr>\n",
       "    <tr>\n",
       "      <th>1246</th>\n",
       "      <td>1247</td>\n",
       "      <td>India</td>\n",
       "      <td>Uttar_Pradesh</td>\n",
       "      <td>Kanpur</td>\n",
       "      <td>Nehru Nagar, Kanpur - UPPCB</td>\n",
       "      <td>22-10-2020 02:00:00</td>\n",
       "      <td>SO2</td>\n",
       "      <td>5.0</td>\n",
       "      <td>18.0</td>\n",
       "      <td>9.0</td>\n",
       "      <td>NA</td>\n",
       "    </tr>\n",
       "    <tr>\n",
       "      <th>1247</th>\n",
       "      <td>1248</td>\n",
       "      <td>India</td>\n",
       "      <td>Uttar_Pradesh</td>\n",
       "      <td>Kanpur</td>\n",
       "      <td>Nehru Nagar, Kanpur - UPPCB</td>\n",
       "      <td>22-10-2020 02:00:00</td>\n",
       "      <td>OZONE</td>\n",
       "      <td>7.0</td>\n",
       "      <td>117.0</td>\n",
       "      <td>77.0</td>\n",
       "      <td>NA</td>\n",
       "    </tr>\n",
       "  </tbody>\n",
       "</table>\n",
       "<p>123 rows × 11 columns</p>\n",
       "</div>"
      ],
      "text/plain": [
       "        id country          state     city                           station  \\\n",
       "42      43   India          Bihar  Hajipur  Industrial Area, Hajipur - BSPCB   \n",
       "43      44   India          Bihar  Hajipur  Industrial Area, Hajipur - BSPCB   \n",
       "44      45   India          Bihar  Hajipur  Industrial Area, Hajipur - BSPCB   \n",
       "45      46   India          Bihar  Hajipur  Industrial Area, Hajipur - BSPCB   \n",
       "46      47   India          Bihar  Hajipur  Industrial Area, Hajipur - BSPCB   \n",
       "...    ...     ...            ...      ...                               ...   \n",
       "1243  1244   India  Uttar_Pradesh    Hapur        Anand Vihar, Hapur - UPPCB   \n",
       "1244  1245   India  Uttar_Pradesh   Kanpur       Nehru Nagar, Kanpur - UPPCB   \n",
       "1245  1246   India  Uttar_Pradesh   Kanpur       Nehru Nagar, Kanpur - UPPCB   \n",
       "1246  1247   India  Uttar_Pradesh   Kanpur       Nehru Nagar, Kanpur - UPPCB   \n",
       "1247  1248   India  Uttar_Pradesh   Kanpur       Nehru Nagar, Kanpur - UPPCB   \n",
       "\n",
       "              last_update pollutant_id  pollutant_min  pollutant_max  \\\n",
       "42    22-10-2020 02:00:00        PM2.5           47.0          286.0   \n",
       "43    22-10-2020 02:00:00         PM10           56.0          156.0   \n",
       "44    22-10-2020 02:00:00          NO2           16.0           21.0   \n",
       "45    22-10-2020 02:00:00          NH3            1.0            2.0   \n",
       "46    22-10-2020 02:00:00          SO2            3.0            6.0   \n",
       "...                   ...          ...            ...            ...   \n",
       "1243  22-10-2020 02:00:00        OZONE            1.0            2.0   \n",
       "1244  22-10-2020 02:00:00        PM2.5           73.0          331.0   \n",
       "1245  22-10-2020 02:00:00          NO2           47.0          324.0   \n",
       "1246  22-10-2020 02:00:00          SO2            5.0           18.0   \n",
       "1247  22-10-2020 02:00:00        OZONE            7.0          117.0   \n",
       "\n",
       "      pollutant_avg pollutant_unit  \n",
       "42            169.0             NA  \n",
       "43            120.0             NA  \n",
       "44             18.0             NA  \n",
       "45              1.0             NA  \n",
       "46              5.0             NA  \n",
       "...             ...            ...  \n",
       "1243            2.0             NA  \n",
       "1244          249.0             NA  \n",
       "1245          128.0             NA  \n",
       "1246            9.0             NA  \n",
       "1247           77.0             NA  \n",
       "\n",
       "[123 rows x 11 columns]"
      ]
     },
     "execution_count": 21,
     "metadata": {},
     "output_type": "execute_result"
    }
   ],
   "source": [
    "# searching a particular city\n",
    "\n",
    "cleanDf[cleanDf.apply(lambda x: True if (x.city).lower().find(\"pur\".lower()) >= 0 else False, axis=1)]"
   ]
  },
  {
   "cell_type": "code",
   "execution_count": null,
   "metadata": {
    "id": "DbJFXDJzFfR9"
   },
   "outputs": [],
   "source": []
  },
  {
   "cell_type": "code",
   "execution_count": 24,
   "metadata": {},
   "outputs": [],
   "source": [
    "# \t\t"
   ]
  },
  {
   "cell_type": "code",
   "execution_count": 25,
   "metadata": {},
   "outputs": [],
   "source": [
    "import matplotlib.pyplot as plt"
   ]
  },
  {
   "cell_type": "code",
   "execution_count": 26,
   "metadata": {},
   "outputs": [],
   "source": [
    "labels = []\n",
    "data_Min = []\n",
    "data_Avg = []\n",
    "data_Max = []\n",
    "for singlePL in cleanDf['pollutant_id'].unique():\n",
    "    tempDF = cleanDf[(cleanDf[\"pollutant_id\"]== singlePL)]\n",
    "    labels.append(singlePL)\n",
    "    data_Min.append(tempDF['pollutant_min'].values)\n",
    "    data_Avg.append(tempDF['pollutant_avg'].values)\n",
    "    data_Max.append(tempDF['pollutant_max'].values)"
   ]
  },
  {
   "cell_type": "code",
   "execution_count": 27,
   "metadata": {},
   "outputs": [
    {
     "name": "stderr",
     "output_type": "stream",
     "text": [
      "/usr/local/lib/python3.6/dist-packages/numpy/core/_asarray.py:83: VisibleDeprecationWarning: Creating an ndarray from ragged nested sequences (which is a list-or-tuple of lists-or-tuples-or ndarrays with different lengths or shapes) is deprecated. If you meant to do this, you must specify 'dtype=object' when creating the ndarray\n",
      "  return array(a, dtype, copy=False, order=order)\n"
     ]
    },
    {
     "data": {
      "image/png": "[encoded data removed]",
      "text/plain": [
       "<Figure size 432x288 with 1 Axes>"
      ]
     },
     "metadata": {
      "needs_background": "light"
     },
     "output_type": "display_data"
    }
   ],
   "source": [
    "plt.boxplot(data_Min, vert=False, patch_artist=True, labels=[ x+'_Min' for x in labels]) \n",
    "plt.ylabel('Pollutant')\n",
    "plt.title('Pollutant : Minimul Value Recorded')  \n",
    "plt.show()"
   ]
  },
  {
   "cell_type": "code",
   "execution_count": 28,
   "metadata": {},
   "outputs": [
    {
     "name": "stderr",
     "output_type": "stream",
     "text": [
      "/usr/local/lib/python3.6/dist-packages/numpy/core/_asarray.py:83: VisibleDeprecationWarning: Creating an ndarray from ragged nested sequences (which is a list-or-tuple of lists-or-tuples-or ndarrays with different lengths or shapes) is deprecated. If you meant to do this, you must specify 'dtype=object' when creating the ndarray\n",
      "  return array(a, dtype, copy=False, order=order)\n"
     ]
    },
    {
     "data": {
      "image/png": "[encoded data removed]",
      "text/plain": [
       "<Figure size 432x288 with 1 Axes>"
      ]
     },
     "metadata": {
      "needs_background": "light"
     },
     "output_type": "display_data"
    }
   ],
   "source": [
    "plt.boxplot(data_Avg, vert=False, patch_artist=True, labels=[x+'_Avg' for x in labels]) \n",
    "plt.ylabel('Pollutant')\n",
    "plt.title('Pollutant : Average Value Recorded')  \n",
    "plt.show()"
   ]
  },
  {
   "cell_type": "code",
   "execution_count": 29,
   "metadata": {
    "scrolled": true
   },
   "outputs": [
    {
     "name": "stderr",
     "output_type": "stream",
     "text": [
      "/usr/local/lib/python3.6/dist-packages/numpy/core/_asarray.py:83: VisibleDeprecationWarning: Creating an ndarray from ragged nested sequences (which is a list-or-tuple of lists-or-tuples-or ndarrays with different lengths or shapes) is deprecated. If you meant to do this, you must specify 'dtype=object' when creating the ndarray\n",
      "  return array(a, dtype, copy=False, order=order)\n"
     ]
    },
    {
     "data": {
      "image/png": "[encoded data removed]",
      "text/plain": [
       "<Figure size 432x288 with 1 Axes>"
      ]
     },
     "metadata": {
      "needs_background": "light"
     },
     "output_type": "display_data"
    }
   ],
   "source": [
    "plt.boxplot(data_Max, vert=False, patch_artist=True, labels=[ x+'_Max' for x in labels]) \n",
    "plt.ylabel('Pollutant')\n",
    "plt.title('Pollutant : Max Value Recorded')\n",
    "plt.show()"
   ]
  },
  {
   "cell_type": "code",
   "execution_count": null,
   "metadata": {},
   "outputs": [],
   "source": []
  },
  {
   "cell_type": "code",
   "execution_count": 30,
   "metadata": {},
   "outputs": [
    {
     "data": {
      "image/png": "[encoded data removed]",
      "text/plain": [
       "<Figure size 720x432 with 1 Axes>"
      ]
     },
     "metadata": {
      "needs_background": "light"
     },
     "output_type": "display_data"
    }
   ],
   "source": [
    "import seaborn as sns\n",
    "import matplotlib.pyplot as plt\n",
    "\n",
    "f, ax = plt.subplots(figsize=(10, 6))\n",
    "\n",
    "# Plot the orbital period with horizontal boxes\n",
    "sns.boxplot(x=\"pollutant_id\", y=\"pollutant_avg\", data=cleanDf, whis=[0, 100], width=.6)\n",
    "\n",
    "# Add in points to show each observation\n",
    "sns.stripplot(x=\"pollutant_id\", y=\"pollutant_avg\", data=cleanDf,size=4, color=\".3\", linewidth=0)\n",
    "\n",
    "# Tweak the visual presentation\n",
    "ax.xaxis.grid(True)\n",
    "ax.set(ylabel=\"unit\")\n",
    "ax.set(xlabel=\"Pollutant\")\n",
    "sns.despine(trim=True, left=True)"
   ]
  }
 ],
 "metadata": {
  "colab": {
   "name": "Air_Quality_Control.ipynb",
   "provenance": []
  },
  "kernelspec": {
   "display_name": "Python 3",
   "language": "python",
   "name": "python3"
  },
  "language_info": {
   "codemirror_mode": {
    "name": "ipython",
    "version": 3
   },
   "file_extension": ".py",
   "mimetype": "text/x-python",
   "name": "python",
   "nbconvert_exporter": "python",
   "pygments_lexer": "ipython3",
   "version": "3.6.9"
  }
 },
 "nbformat": 4,
 "nbformat_minor": 1
}
