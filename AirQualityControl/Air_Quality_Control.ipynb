{
  "nbformat": 4,
  "nbformat_minor": 0,
  "metadata": {
    "colab": {
      "name": "Air_Quality_Control.ipynb",
      "provenance": []
    },
    "kernelspec": {
      "name": "python3",
      "display_name": "Python 3"
    }
  },
  "cells": [
    {
      "cell_type": "markdown",
      "metadata": {
        "id": "Eoj6Fx_JGUib"
      },
      "source": [
        "# Air Quality Control\n",
        "#### India 2020\n",
        "\n",
        "https://data.gov.in/resources/real-time-air-quality-index-various-locations/api"
      ]
    },
    {
      "cell_type": "code",
      "metadata": {
        "id": "wGrwDei3b4EE"
      },
      "source": [
        "# Used for fetching Data from the source\n",
        "import requests\n",
        "\n",
        "# Used for Data Wrangling & Analysis Task \n",
        "import pandas as pd"
      ],
      "execution_count": 10,
      "outputs": []
    },
    {
      "cell_type": "markdown",
      "metadata": {
        "id": "V9wmPSpqHF9g"
      },
      "source": [
        "## Fetching data ..."
      ]
    },
    {
      "cell_type": "code",
      "metadata": {
        "id": "Ipv4kgCvdbdj",
        "outputId": "ebc0a4bc-1c4b-4296-8086-e0bc75093ed8",
        "colab": {
          "base_uri": "https://localhost:8080/",
          "height": 51
        }
      },
      "source": [
        "print(\"Data Fetch - Initiated\")\n",
        "listOfRecords = []\n",
        "airQualityRecords = []\n",
        "for i in range(0, 1500, 10):\n",
        "  responseObject = requests.get('https://api.data.gov.in/resource/3b01bcb8-0b14-4abf-b6f2-c1bfd384ba69?api-key=579b464db66ec23bdd000001cdd3946e44ce4aad7209ff7b23ac571b&format=json&offset={}&limit=10'.format(i))\n",
        "  if responseObject.status_code == 200:\n",
        "    listOfRecords.append(responseObject.json())\n",
        "    airQualityRecords.extend(responseObject.json()[\"records\"])\n",
        "  else:\n",
        "    break\n",
        "print(\"Data Fetch - Complete\")"
      ],
      "execution_count": 30,
      "outputs": [
        {
          "output_type": "stream",
          "text": [
            "Fetching data\n",
            "Data Fetch Complete\n"
          ],
          "name": "stdout"
        }
      ]
    },
    {
      "cell_type": "code",
      "metadata": {
        "id": "Mwj2kmJFdZ97",
        "outputId": "5382a5d4-cd39-457c-af45-b23bf2639d91",
        "colab": {
          "base_uri": "https://localhost:8080/",
          "height": 34
        }
      },
      "source": [
        "print( \"No of Requests Made :: {} \\t Total Data Points Fetched:: {} \\t \".format(len(listOfRecords), len(airQualityRecords)) )"
      ],
      "execution_count": 31,
      "outputs": [
        {
          "output_type": "stream",
          "text": [
            "No of Requests Made :: 150 \t Total Data Points Fetched:: 1416 \t \n"
          ],
          "name": "stdout"
        }
      ]
    },
    {
      "cell_type": "code",
      "metadata": {
        "id": "WXy4x4QNjngP"
      },
      "source": [
        "# Storing data into a structured format\n",
        "dfData = pd.DataFrame(airQualityRecords)"
      ],
      "execution_count": 32,
      "outputs": []
    },
    {
      "cell_type": "code",
      "metadata": {
        "id": "dQ3gYl_u3PHi",
        "outputId": "de90aeb1-d8b7-4b65-dd68-b5b88206854a",
        "colab": {
          "base_uri": "https://localhost:8080/",
          "height": 323
        }
      },
      "source": [
        "# Looking at its summary \n",
        "dfData.info()"
      ],
      "execution_count": 59,
      "outputs": [
        {
          "output_type": "stream",
          "text": [
            "<class 'pandas.core.frame.DataFrame'>\n",
            "RangeIndex: 1416 entries, 0 to 1415\n",
            "Data columns (total 11 columns):\n",
            " #   Column          Non-Null Count  Dtype \n",
            "---  ------          --------------  ----- \n",
            " 0   id              1416 non-null   object\n",
            " 1   country         1416 non-null   object\n",
            " 2   state           1416 non-null   object\n",
            " 3   city            1416 non-null   object\n",
            " 4   station         1416 non-null   object\n",
            " 5   last_update     1416 non-null   object\n",
            " 6   pollutant_id    1416 non-null   object\n",
            " 7   pollutant_min   1416 non-null   object\n",
            " 8   pollutant_max   1416 non-null   object\n",
            " 9   pollutant_avg   1416 non-null   object\n",
            " 10  pollutant_unit  1416 non-null   object\n",
            "dtypes: object(11)\n",
            "memory usage: 121.8+ KB\n"
          ],
          "name": "stdout"
        }
      ]
    },
    {
      "cell_type": "code",
      "metadata": {
        "id": "a-J3UYhJrwjr",
        "outputId": "00aa8465-3b4b-49f0-9a25-c5ff18bc7d1b",
        "colab": {
          "base_uri": "https://localhost:8080/",
          "height": 179
        }
      },
      "source": [
        "# Exploring the initial records\n",
        "dfData.head(2)"
      ],
      "execution_count": 33,
      "outputs": [
        {
          "output_type": "execute_result",
          "data": {
            "text/html": [
              "<div>\n",
              "<style scoped>\n",
              "    .dataframe tbody tr th:only-of-type {\n",
              "        vertical-align: middle;\n",
              "    }\n",
              "\n",
              "    .dataframe tbody tr th {\n",
              "        vertical-align: top;\n",
              "    }\n",
              "\n",
              "    .dataframe thead th {\n",
              "        text-align: right;\n",
              "    }\n",
              "</style>\n",
              "<table border=\"1\" class=\"dataframe\">\n",
              "  <thead>\n",
              "    <tr style=\"text-align: right;\">\n",
              "      <th></th>\n",
              "      <th>id</th>\n",
              "      <th>country</th>\n",
              "      <th>state</th>\n",
              "      <th>city</th>\n",
              "      <th>station</th>\n",
              "      <th>last_update</th>\n",
              "      <th>pollutant_id</th>\n",
              "      <th>pollutant_min</th>\n",
              "      <th>pollutant_max</th>\n",
              "      <th>pollutant_avg</th>\n",
              "      <th>pollutant_unit</th>\n",
              "    </tr>\n",
              "  </thead>\n",
              "  <tbody>\n",
              "    <tr>\n",
              "      <th>0</th>\n",
              "      <td>1</td>\n",
              "      <td>India</td>\n",
              "      <td>Andhra_Pradesh</td>\n",
              "      <td>Amaravati</td>\n",
              "      <td>Secretariat, Amaravati - APPCB</td>\n",
              "      <td>20-10-2020 08:00:00</td>\n",
              "      <td>PM2.5</td>\n",
              "      <td>12</td>\n",
              "      <td>40</td>\n",
              "      <td>21</td>\n",
              "      <td>NA</td>\n",
              "    </tr>\n",
              "    <tr>\n",
              "      <th>1</th>\n",
              "      <td>2</td>\n",
              "      <td>India</td>\n",
              "      <td>Andhra_Pradesh</td>\n",
              "      <td>Amaravati</td>\n",
              "      <td>Secretariat, Amaravati - APPCB</td>\n",
              "      <td>20-10-2020 08:00:00</td>\n",
              "      <td>PM10</td>\n",
              "      <td>13</td>\n",
              "      <td>45</td>\n",
              "      <td>25</td>\n",
              "      <td>NA</td>\n",
              "    </tr>\n",
              "  </tbody>\n",
              "</table>\n",
              "</div>"
            ],
            "text/plain": [
              "  id country           state  ... pollutant_max pollutant_avg pollutant_unit\n",
              "0  1   India  Andhra_Pradesh  ...            40            21             NA\n",
              "1  2   India  Andhra_Pradesh  ...            45            25             NA\n",
              "\n",
              "[2 rows x 11 columns]"
            ]
          },
          "metadata": {
            "tags": []
          },
          "execution_count": 33
        }
      ]
    },
    {
      "cell_type": "code",
      "metadata": {
        "id": "LmHwzYO83TIA",
        "outputId": "c4fa7f32-100e-4ae1-ac80-88eb123d1237",
        "colab": {
          "base_uri": "https://localhost:8080/",
          "height": 34
        }
      },
      "source": [
        "# Checking for irregular data\n",
        "len(dfData[ (dfData.pollutant_min == 'NA') | (dfData.pollutant_max == 'NA') | (dfData.pollutant_avg == 'NA')])"
      ],
      "execution_count": 125,
      "outputs": [
        {
          "output_type": "execute_result",
          "data": {
            "text/plain": [
              "112"
            ]
          },
          "metadata": {
            "tags": []
          },
          "execution_count": 125
        }
      ]
    },
    {
      "cell_type": "code",
      "metadata": {
        "id": "k7-7CFxh4iU-"
      },
      "source": [
        "cleanDf = dfData[ ~(dfData.pollutant_min == 'NA') | ~(dfData.pollutant_max == 'NA') | ~(dfData.pollutant_avg == 'NA')].copy()"
      ],
      "execution_count": 71,
      "outputs": []
    },
    {
      "cell_type": "code",
      "metadata": {
        "id": "K-fb6W9Otygv",
        "outputId": "31e93dea-e47f-4a1b-91c9-2bbe8ad43044",
        "colab": {
          "base_uri": "https://localhost:8080/",
          "height": 34
        }
      },
      "source": [
        "cleanDf.shape"
      ],
      "execution_count": 82,
      "outputs": [
        {
          "output_type": "execute_result",
          "data": {
            "text/plain": [
              "(1304, 11)"
            ]
          },
          "metadata": {
            "tags": []
          },
          "execution_count": 82
        }
      ]
    },
    {
      "cell_type": "code",
      "metadata": {
        "id": "KQM01NJw5aeY",
        "outputId": "d955a6e9-e5a6-4ec7-93be-d85b05a8dabb",
        "colab": {
          "base_uri": "https://localhost:8080/",
          "height": 323
        }
      },
      "source": [
        "cleanDf.info()"
      ],
      "execution_count": 79,
      "outputs": [
        {
          "output_type": "stream",
          "text": [
            "<class 'pandas.core.frame.DataFrame'>\n",
            "Int64Index: 1304 entries, 0 to 1415\n",
            "Data columns (total 11 columns):\n",
            " #   Column          Non-Null Count  Dtype \n",
            "---  ------          --------------  ----- \n",
            " 0   id              1304 non-null   object\n",
            " 1   country         1304 non-null   object\n",
            " 2   state           1304 non-null   object\n",
            " 3   city            1304 non-null   object\n",
            " 4   station         1304 non-null   object\n",
            " 5   last_update     1304 non-null   object\n",
            " 6   pollutant_id    1304 non-null   object\n",
            " 7   pollutant_min   1304 non-null   object\n",
            " 8   pollutant_max   1304 non-null   object\n",
            " 9   pollutant_avg   1304 non-null   object\n",
            " 10  pollutant_unit  1304 non-null   object\n",
            "dtypes: object(11)\n",
            "memory usage: 122.2+ KB\n"
          ],
          "name": "stdout"
        }
      ]
    },
    {
      "cell_type": "code",
      "metadata": {
        "id": "HgH-xve15e6I"
      },
      "source": [
        "# Handling numerical data\n",
        "cleanDf['pollutant_min'] = cleanDf['pollutant_min'].astype(float)\n",
        "cleanDf['pollutant_max'] = cleanDf['pollutant_max'].astype(float)\n",
        "cleanDf['pollutant_avg'] = cleanDf['pollutant_avg'].astype(float)"
      ],
      "execution_count": 80,
      "outputs": []
    },
    {
      "cell_type": "code",
      "metadata": {
        "id": "r-wd_EvhsSmd",
        "outputId": "522e0199-48ec-46d6-dbac-ab6cd96fd870",
        "colab": {
          "base_uri": "https://localhost:8080/",
          "height": 34
        }
      },
      "source": [
        "cleanDf.city.nunique()"
      ],
      "execution_count": 81,
      "outputs": [
        {
          "output_type": "execute_result",
          "data": {
            "text/plain": [
              "119"
            ]
          },
          "metadata": {
            "tags": []
          },
          "execution_count": 81
        }
      ]
    },
    {
      "cell_type": "markdown",
      "metadata": {
        "id": "HcBjSpx1JGT7"
      },
      "source": [
        "### Story Telling"
      ]
    },
    {
      "cell_type": "code",
      "metadata": {
        "id": "3OlVP1qPgsrj",
        "outputId": "2dfc2ddb-e58c-413f-9fc5-620ad57d19cc",
        "colab": {
          "base_uri": "https://localhost:8080/",
          "height": 544
        }
      },
      "source": [
        "print(\"Data Comprises of :: -\\n\\n \")\n",
        "\n",
        "print(\"No of Countries :: {}\".format( cleanDf[\"country\"].nunique() ) )\n",
        "print(\"\\t Countries :: {}\".format( cleanDf[\"country\"].unique() ) )\n",
        "print(\"No of States :: {}\".format( cleanDf[\"state\"].nunique() ) )\n",
        "print(\"\\t States :: {}\".format( cleanDf[\"state\"].unique() ) )\n",
        "\n",
        "print(\"No of Cities :: {}\".format( cleanDf[\"city\"].nunique() ) )\n",
        "print(\"\\t Cities :: {}\".format( cleanDf[\"city\"].unique() ) )\n",
        "print(\"No of Station :: {}\".format( cleanDf[\"station\"].nunique() ) )\n",
        "# print(\"\\t Station :: {}\".format( cleanDf[\"station\"].unique() ) ) // list is long"
      ],
      "execution_count": 131,
      "outputs": [
        {
          "output_type": "stream",
          "text": [
            "Data Comprises of :: -\n",
            "\n",
            " \n",
            "No of Countries :: 1\n",
            "\t Countries :: ['India']\n",
            "No of States :: 20\n",
            "\t States :: ['Andhra_Pradesh' 'Bihar' 'Assam' 'Chandigarh' 'Delhi' 'Gujarat' 'Haryana'\n",
            " 'Karnataka' 'Kerala' 'Madhya Pradesh' 'Maharashtra' 'Meghalaya'\n",
            " 'Nagaland' 'Odisha' 'Punjab' 'Rajasthan' 'TamilNadu' 'Telangana'\n",
            " 'Uttar_Pradesh' 'West_Bengal']\n",
            "No of Cities :: 119\n",
            "\t Cities :: ['Amaravati' 'Rajamahendravaram' 'Tirupati' 'Hajipur' 'Muzaffarpur'\n",
            " 'Patna' 'Guwahati' 'Gaya' 'Chandigarh' 'Delhi' 'Ahmedabad' 'Ankleshwar'\n",
            " 'Gandhinagar' 'Vapi' 'Vatva' 'Ambala' 'Bahadurgarh' 'Ballabgarh'\n",
            " 'Bhiwani' 'Charkhi Dadri' 'Dharuhera' 'Faridabad' 'Fatehabad' 'Gurugram'\n",
            " 'Hisar' 'Jind' 'Kaithal' 'Karnal' 'Kurukshetra' 'Mandikhera' 'Manesar'\n",
            " 'Narnaul' 'Palwal' 'Panchkula' 'Panipat' 'Rohtak' 'Sirsa' 'Sonipat'\n",
            " 'Yamunanagar' 'Bengaluru' 'Chikkaballapur' 'Chikkamagaluru' 'Hubballi'\n",
            " 'Kalaburgi' 'Mysuru' 'Ramanagara' 'Vijayapura' 'Yadgir' 'Eloor' 'Kannur'\n",
            " 'Kollam' 'Kozhikode' 'Thiruvananthapuram' 'Thrissur' 'Bhopal' 'Damoh'\n",
            " 'Dewas' 'Gwalior' 'Indore' 'Jabalpur' 'Katni' 'Maihar' 'Mandideep'\n",
            " 'Pithampur' 'Ratlam' 'Sagar' 'Satna' 'Singrauli' 'Ujjain' 'Aurangabad'\n",
            " 'Chandrapur' 'Kalyan' 'Mumbai' 'Nagpur' 'Nashik' 'Navi Mumbai' 'Pune'\n",
            " 'Solapur' 'Thane' 'Shillong' 'Kohima' 'Brajrajnagar' 'Talcher' 'Amritsar'\n",
            " 'Bathinda' 'Jalandhar' 'Khanna' 'Ludhiana' 'Mandi Gobindgarh' 'Patiala'\n",
            " 'Rupnagar' 'Ajmer' 'Alwar' 'Bhiwadi' 'Jaipur' 'Jodhpur' 'Kota' 'Pali'\n",
            " 'Udaipur' 'Chennai' 'Coimbatore' 'Hyderabad' 'Agra' 'Baghpat'\n",
            " 'Bulandshahr' 'Ghaziabad' 'Greater Noida' 'Hapur' 'Kanpur' 'Lucknow'\n",
            " 'Meerut' 'Moradabad' 'Muzaffarnagar' 'Noida' 'Varanasi' 'Asansol'\n",
            " 'Howrah' 'Kolkata' 'Siliguri']\n",
            "No of Station :: 214\n"
          ],
          "name": "stdout"
        }
      ]
    },
    {
      "cell_type": "code",
      "metadata": {
        "id": "9a-DBCPfgswX",
        "outputId": "ba113fa1-76c5-4044-934d-e7983f12811f",
        "colab": {
          "base_uri": "https://localhost:8080/",
          "height": 34
        }
      },
      "source": [
        "print(\" Different pollutants captured - {}\".format(cleanDf[\"pollutant_id\"].unique()))"
      ],
      "execution_count": 84,
      "outputs": [
        {
          "output_type": "stream",
          "text": [
            " Different pollutants captured - ['PM2.5' 'PM10' 'NO2' 'NH3' 'SO2' 'CO' 'OZONE']\n"
          ],
          "name": "stdout"
        }
      ]
    },
    {
      "cell_type": "code",
      "metadata": {
        "id": "Q_p9hgPpgsuK",
        "outputId": "49756771-69b4-4dca-acdd-b231f80fc10d",
        "colab": {
          "base_uri": "https://localhost:8080/",
          "height": 504
        }
      },
      "source": [
        "cleanDf.groupby(['pollutant_id', 'city'])['pollutant_min',\t'pollutant_avg','pollutant_max'].sum()"
      ],
      "execution_count": 85,
      "outputs": [
        {
          "output_type": "stream",
          "text": [
            "/usr/local/lib/python3.6/dist-packages/ipykernel_launcher.py:1: FutureWarning: Indexing with multiple keys (implicitly converted to a tuple of keys) will be deprecated, use a list instead.\n",
            "  \"\"\"Entry point for launching an IPython kernel.\n"
          ],
          "name": "stderr"
        },
        {
          "output_type": "execute_result",
          "data": {
            "text/html": [
              "<div>\n",
              "<style scoped>\n",
              "    .dataframe tbody tr th:only-of-type {\n",
              "        vertical-align: middle;\n",
              "    }\n",
              "\n",
              "    .dataframe tbody tr th {\n",
              "        vertical-align: top;\n",
              "    }\n",
              "\n",
              "    .dataframe thead th {\n",
              "        text-align: right;\n",
              "    }\n",
              "</style>\n",
              "<table border=\"1\" class=\"dataframe\">\n",
              "  <thead>\n",
              "    <tr style=\"text-align: right;\">\n",
              "      <th></th>\n",
              "      <th></th>\n",
              "      <th>pollutant_min</th>\n",
              "      <th>pollutant_avg</th>\n",
              "      <th>pollutant_max</th>\n",
              "    </tr>\n",
              "    <tr>\n",
              "      <th>pollutant_id</th>\n",
              "      <th>city</th>\n",
              "      <th></th>\n",
              "      <th></th>\n",
              "      <th></th>\n",
              "    </tr>\n",
              "  </thead>\n",
              "  <tbody>\n",
              "    <tr>\n",
              "      <th rowspan=\"5\" valign=\"top\">CO</th>\n",
              "      <th>Agra</th>\n",
              "      <td>12.0</td>\n",
              "      <td>35.0</td>\n",
              "      <td>87.0</td>\n",
              "    </tr>\n",
              "    <tr>\n",
              "      <th>Ahmedabad</th>\n",
              "      <td>8.0</td>\n",
              "      <td>44.0</td>\n",
              "      <td>103.0</td>\n",
              "    </tr>\n",
              "    <tr>\n",
              "      <th>Ajmer</th>\n",
              "      <td>5.0</td>\n",
              "      <td>45.0</td>\n",
              "      <td>81.0</td>\n",
              "    </tr>\n",
              "    <tr>\n",
              "      <th>Alwar</th>\n",
              "      <td>4.0</td>\n",
              "      <td>63.0</td>\n",
              "      <td>108.0</td>\n",
              "    </tr>\n",
              "    <tr>\n",
              "      <th>Amaravati</th>\n",
              "      <td>18.0</td>\n",
              "      <td>39.0</td>\n",
              "      <td>64.0</td>\n",
              "    </tr>\n",
              "    <tr>\n",
              "      <th>...</th>\n",
              "      <th>...</th>\n",
              "      <td>...</td>\n",
              "      <td>...</td>\n",
              "      <td>...</td>\n",
              "    </tr>\n",
              "    <tr>\n",
              "      <th rowspan=\"5\" valign=\"top\">SO2</th>\n",
              "      <th>Tirupati</th>\n",
              "      <td>4.0</td>\n",
              "      <td>7.0</td>\n",
              "      <td>10.0</td>\n",
              "    </tr>\n",
              "    <tr>\n",
              "      <th>Udaipur</th>\n",
              "      <td>6.0</td>\n",
              "      <td>15.0</td>\n",
              "      <td>41.0</td>\n",
              "    </tr>\n",
              "    <tr>\n",
              "      <th>Vatva</th>\n",
              "      <td>12.0</td>\n",
              "      <td>25.0</td>\n",
              "      <td>45.0</td>\n",
              "    </tr>\n",
              "    <tr>\n",
              "      <th>Vijayapura</th>\n",
              "      <td>1.0</td>\n",
              "      <td>3.0</td>\n",
              "      <td>5.0</td>\n",
              "    </tr>\n",
              "    <tr>\n",
              "      <th>Yamunanagar</th>\n",
              "      <td>4.0</td>\n",
              "      <td>11.0</td>\n",
              "      <td>123.0</td>\n",
              "    </tr>\n",
              "  </tbody>\n",
              "</table>\n",
              "<p>732 rows × 3 columns</p>\n",
              "</div>"
            ],
            "text/plain": [
              "                          pollutant_min  pollutant_avg  pollutant_max\n",
              "pollutant_id city                                                    \n",
              "CO           Agra                  12.0           35.0           87.0\n",
              "             Ahmedabad              8.0           44.0          103.0\n",
              "             Ajmer                  5.0           45.0           81.0\n",
              "             Alwar                  4.0           63.0          108.0\n",
              "             Amaravati             18.0           39.0           64.0\n",
              "...                                 ...            ...            ...\n",
              "SO2          Tirupati               4.0            7.0           10.0\n",
              "             Udaipur                6.0           15.0           41.0\n",
              "             Vatva                 12.0           25.0           45.0\n",
              "             Vijayapura             1.0            3.0            5.0\n",
              "             Yamunanagar            4.0           11.0          123.0\n",
              "\n",
              "[732 rows x 3 columns]"
            ]
          },
          "metadata": {
            "tags": []
          },
          "execution_count": 85
        }
      ]
    },
    {
      "cell_type": "code",
      "metadata": {
        "id": "P8FXkY4N2SQ_",
        "outputId": "e3eeb09e-8bfd-4702-b811-f91c989d3cef",
        "colab": {
          "base_uri": "https://localhost:8080/",
          "height": 504
        }
      },
      "source": [
        "cleanDf.groupby(['city','pollutant_id'])['pollutant_min',\t'pollutant_avg','pollutant_max'].sum()"
      ],
      "execution_count": 86,
      "outputs": [
        {
          "output_type": "stream",
          "text": [
            "/usr/local/lib/python3.6/dist-packages/ipykernel_launcher.py:1: FutureWarning: Indexing with multiple keys (implicitly converted to a tuple of keys) will be deprecated, use a list instead.\n",
            "  \"\"\"Entry point for launching an IPython kernel.\n"
          ],
          "name": "stderr"
        },
        {
          "output_type": "execute_result",
          "data": {
            "text/html": [
              "<div>\n",
              "<style scoped>\n",
              "    .dataframe tbody tr th:only-of-type {\n",
              "        vertical-align: middle;\n",
              "    }\n",
              "\n",
              "    .dataframe tbody tr th {\n",
              "        vertical-align: top;\n",
              "    }\n",
              "\n",
              "    .dataframe thead th {\n",
              "        text-align: right;\n",
              "    }\n",
              "</style>\n",
              "<table border=\"1\" class=\"dataframe\">\n",
              "  <thead>\n",
              "    <tr style=\"text-align: right;\">\n",
              "      <th></th>\n",
              "      <th></th>\n",
              "      <th>pollutant_min</th>\n",
              "      <th>pollutant_avg</th>\n",
              "      <th>pollutant_max</th>\n",
              "    </tr>\n",
              "    <tr>\n",
              "      <th>city</th>\n",
              "      <th>pollutant_id</th>\n",
              "      <th></th>\n",
              "      <th></th>\n",
              "      <th></th>\n",
              "    </tr>\n",
              "  </thead>\n",
              "  <tbody>\n",
              "    <tr>\n",
              "      <th rowspan=\"4\" valign=\"top\">Agra</th>\n",
              "      <th>CO</th>\n",
              "      <td>12.0</td>\n",
              "      <td>35.0</td>\n",
              "      <td>87.0</td>\n",
              "    </tr>\n",
              "    <tr>\n",
              "      <th>NO2</th>\n",
              "      <td>25.0</td>\n",
              "      <td>54.0</td>\n",
              "      <td>116.0</td>\n",
              "    </tr>\n",
              "    <tr>\n",
              "      <th>OZONE</th>\n",
              "      <td>26.0</td>\n",
              "      <td>127.0</td>\n",
              "      <td>192.0</td>\n",
              "    </tr>\n",
              "    <tr>\n",
              "      <th>PM2.5</th>\n",
              "      <td>97.0</td>\n",
              "      <td>248.0</td>\n",
              "      <td>313.0</td>\n",
              "    </tr>\n",
              "    <tr>\n",
              "      <th>Ahmedabad</th>\n",
              "      <th>CO</th>\n",
              "      <td>8.0</td>\n",
              "      <td>44.0</td>\n",
              "      <td>103.0</td>\n",
              "    </tr>\n",
              "    <tr>\n",
              "      <th>...</th>\n",
              "      <th>...</th>\n",
              "      <td>...</td>\n",
              "      <td>...</td>\n",
              "      <td>...</td>\n",
              "    </tr>\n",
              "    <tr>\n",
              "      <th rowspan=\"5\" valign=\"top\">Yamunanagar</th>\n",
              "      <th>NO2</th>\n",
              "      <td>16.0</td>\n",
              "      <td>58.0</td>\n",
              "      <td>107.0</td>\n",
              "    </tr>\n",
              "    <tr>\n",
              "      <th>OZONE</th>\n",
              "      <td>6.0</td>\n",
              "      <td>78.0</td>\n",
              "      <td>110.0</td>\n",
              "    </tr>\n",
              "    <tr>\n",
              "      <th>PM10</th>\n",
              "      <td>83.0</td>\n",
              "      <td>220.0</td>\n",
              "      <td>404.0</td>\n",
              "    </tr>\n",
              "    <tr>\n",
              "      <th>PM2.5</th>\n",
              "      <td>69.0</td>\n",
              "      <td>254.0</td>\n",
              "      <td>378.0</td>\n",
              "    </tr>\n",
              "    <tr>\n",
              "      <th>SO2</th>\n",
              "      <td>4.0</td>\n",
              "      <td>11.0</td>\n",
              "      <td>123.0</td>\n",
              "    </tr>\n",
              "  </tbody>\n",
              "</table>\n",
              "<p>732 rows × 3 columns</p>\n",
              "</div>"
            ],
            "text/plain": [
              "                          pollutant_min  pollutant_avg  pollutant_max\n",
              "city        pollutant_id                                             \n",
              "Agra        CO                     12.0           35.0           87.0\n",
              "            NO2                    25.0           54.0          116.0\n",
              "            OZONE                  26.0          127.0          192.0\n",
              "            PM2.5                  97.0          248.0          313.0\n",
              "Ahmedabad   CO                      8.0           44.0          103.0\n",
              "...                                 ...            ...            ...\n",
              "Yamunanagar NO2                    16.0           58.0          107.0\n",
              "            OZONE                   6.0           78.0          110.0\n",
              "            PM10                   83.0          220.0          404.0\n",
              "            PM2.5                  69.0          254.0          378.0\n",
              "            SO2                     4.0           11.0          123.0\n",
              "\n",
              "[732 rows x 3 columns]"
            ]
          },
          "metadata": {
            "tags": []
          },
          "execution_count": 86
        }
      ]
    },
    {
      "cell_type": "code",
      "metadata": {
        "id": "31aLVP8v2dkl",
        "outputId": "9b815fc1-b6fc-46e4-f12c-ee8adfac9315",
        "colab": {
          "base_uri": "https://localhost:8080/",
          "height": 275
        }
      },
      "source": [
        "# High Risk of Each Pollutant today\n",
        "\n",
        "for singlePL in cleanDf['pollutant_id'].unique():\n",
        "  print(\"For pollutant - {} \".format(singlePL))\n",
        "  tempDF = cleanDf[(cleanDf[\"pollutant_id\"]== singlePL)].sort_values('pollutant_avg', ascending=False).head(1).copy()\n",
        "  print(\" \\t Place at risk - {}\".format(tempDF[['state', 'city','station','pollutant_avg']].to_dict(\"records\")[0]) )"
      ],
      "execution_count": 121,
      "outputs": [
        {
          "output_type": "stream",
          "text": [
            "For pollutant - PM2.5 \n",
            " \t Place at risk - {'state': 'Uttar_Pradesh', 'city': 'Lucknow', 'station': 'Talkatora District Industries Center, Lucknow - CPCB', 'pollutant_avg': 334.0}\n",
            "For pollutant - PM10 \n",
            " \t Place at risk - {'state': 'Haryana', 'city': 'Ballabgarh', 'station': 'Nathu Colony, Ballabgarh - HSPCB', 'pollutant_avg': 299.0}\n",
            "For pollutant - NO2 \n",
            " \t Place at risk - {'state': 'Uttar_Pradesh', 'city': 'Meerut', 'station': 'Jai Bhim Nagar, Meerut - UPPCB', 'pollutant_avg': 183.0}\n",
            "For pollutant - NH3 \n",
            " \t Place at risk - {'state': 'Maharashtra', 'city': 'Nagpur', 'station': 'Opp GPO Civil Lines, Nagpur - MPCB', 'pollutant_avg': 59.0}\n",
            "For pollutant - SO2 \n",
            " \t Place at risk - {'state': 'Haryana', 'city': 'Jind', 'station': 'Police Lines, Jind - HSPCB', 'pollutant_avg': 80.0}\n",
            "For pollutant - CO \n",
            " \t Place at risk - {'state': 'Delhi', 'city': 'Delhi', 'station': 'CRRI Mathura Road, Delhi - IMD', 'pollutant_avg': 185.0}\n",
            "For pollutant - OZONE \n",
            " \t Place at risk - {'state': 'Haryana', 'city': 'Bhiwani', 'station': 'H.B. Colony, Bhiwani - HSPCB', 'pollutant_avg': 192.0}\n"
          ],
          "name": "stdout"
        }
      ]
    },
    {
      "cell_type": "code",
      "metadata": {
        "id": "cAu8FGZm2dnQ",
        "outputId": "feb0a79c-d74f-4ac3-b130-379113573062",
        "colab": {
          "base_uri": "https://localhost:8080/",
          "height": 275
        }
      },
      "source": [
        "# Historical High\n",
        "\n",
        "for singlePL in cleanDf['pollutant_id'].unique():\n",
        "  print(\"For pollutant - {} \".format(singlePL))\n",
        "  tempDF = cleanDf[(cleanDf[\"pollutant_id\"]== singlePL)].sort_values('pollutant_max', ascending=False).head(1).copy()\n",
        "  print(\" \\t Place at risk - {}\".format(tempDF[['state', 'city','station','pollutant_max']].to_dict(\"records\")[0]) )"
      ],
      "execution_count": 122,
      "outputs": [
        {
          "output_type": "stream",
          "text": [
            "For pollutant - PM2.5 \n",
            " \t Place at risk - {'state': 'Haryana', 'city': 'Gurugram', 'station': 'Vikas Sadan, Gurugram - HSPCB', 'pollutant_max': 446.0}\n",
            "For pollutant - PM10 \n",
            " \t Place at risk - {'state': 'Delhi', 'city': 'Delhi', 'station': 'Shadipur, Delhi - CPCB', 'pollutant_max': 500.0}\n",
            "For pollutant - NO2 \n",
            " \t Place at risk - {'state': 'Uttar_Pradesh', 'city': 'Meerut', 'station': 'Jai Bhim Nagar, Meerut - UPPCB', 'pollutant_max': 403.0}\n",
            "For pollutant - NH3 \n",
            " \t Place at risk - {'state': 'Maharashtra', 'city': 'Nagpur', 'station': 'Opp GPO Civil Lines, Nagpur - MPCB', 'pollutant_max': 84.0}\n",
            "For pollutant - SO2 \n",
            " \t Place at risk - {'state': 'Haryana', 'city': 'Rohtak', 'station': 'MD University, Rohtak - HSPCB', 'pollutant_max': 133.0}\n",
            "For pollutant - CO \n",
            " \t Place at risk - {'state': 'Karnataka', 'city': 'Bengaluru', 'station': 'BWSSB Kadabesanahalli, Bengaluru - CPCB', 'pollutant_max': 196.0}\n",
            "For pollutant - OZONE \n",
            " \t Place at risk - {'state': 'Delhi', 'city': 'Delhi', 'station': 'Sirifort, Delhi - CPCB', 'pollutant_max': 278.0}\n"
          ],
          "name": "stdout"
        }
      ]
    },
    {
      "cell_type": "code",
      "metadata": {
        "id": "XXrEqGGDFLc0",
        "outputId": "40888363-f9a8-4501-a8f0-04bd1edcc4cf",
        "colab": {
          "base_uri": "https://localhost:8080/",
          "height": 275
        }
      },
      "source": [
        "# Low Risk of Each Pollutant today\n",
        "\n",
        "for singlePL in cleanDf['pollutant_id'].unique():\n",
        "  print(\"For pollutant - {} \".format(singlePL))\n",
        "  tempDF = cleanDf[(cleanDf[\"pollutant_id\"]== singlePL)].sort_values('pollutant_avg', ascending=True).head(1).copy()\n",
        "  print(\" \\t Place at risk - {}\".format(tempDF[['state', 'city','station','pollutant_avg']].to_dict(\"records\")[0]) )"
      ],
      "execution_count": 123,
      "outputs": [
        {
          "output_type": "stream",
          "text": [
            "For pollutant - PM2.5 \n",
            " \t Place at risk - {'state': 'Kerala', 'city': 'Eloor', 'station': 'Udyogamandal, Eloor - Kerala PCB', 'pollutant_avg': 6.0}\n",
            "For pollutant - PM10 \n",
            " \t Place at risk - {'state': 'Karnataka', 'city': 'Mysuru', 'station': 'Hebbal 1st Stage, Mysuru - KSPCB', 'pollutant_avg': 19.0}\n",
            "For pollutant - NO2 \n",
            " \t Place at risk - {'state': 'Maharashtra', 'city': 'Mumbai', 'station': 'Bandra, Mumbai - MPCB', 'pollutant_avg': 1.0}\n",
            "For pollutant - NH3 \n",
            " \t Place at risk - {'state': 'Karnataka', 'city': 'Yadgir', 'station': 'Collector Office, Yadgir - KSPCB', 'pollutant_avg': 1.0}\n",
            "For pollutant - SO2 \n",
            " \t Place at risk - {'state': 'Uttar_Pradesh', 'city': 'Ghaziabad', 'station': 'Sanjay Nagar, Ghaziabad - UPPCB', 'pollutant_avg': 1.0}\n",
            "For pollutant - CO \n",
            " \t Place at risk - {'state': 'Gujarat', 'city': 'Vapi', 'station': 'Phase-1 GIDC, Vapi - GPCB', 'pollutant_avg': 3.0}\n",
            "For pollutant - OZONE \n",
            " \t Place at risk - {'state': 'Gujarat', 'city': 'Vapi', 'station': 'Phase-1 GIDC, Vapi - GPCB', 'pollutant_avg': 2.0}\n"
          ],
          "name": "stdout"
        }
      ]
    },
    {
      "cell_type": "code",
      "metadata": {
        "id": "NfMp6gGuFXIa",
        "outputId": "5c6fd799-8f56-475b-b8d1-3858e086b6e3",
        "colab": {
          "base_uri": "https://localhost:8080/",
          "height": 275
        }
      },
      "source": [
        "# Low Risk of Each Pollutant today\n",
        "\n",
        "for singlePL in cleanDf['pollutant_id'].unique():\n",
        "  print(\"For pollutant - {} \".format(singlePL))\n",
        "  tempDF = cleanDf[(cleanDf[\"pollutant_id\"]== singlePL)].sort_values('pollutant_max', ascending=True).head(1).copy()\n",
        "  print(\" \\t Place at risk - {}\".format(tempDF[['state', 'city','station','pollutant_max']].to_dict(\"records\")[0]) )"
      ],
      "execution_count": 124,
      "outputs": [
        {
          "output_type": "stream",
          "text": [
            "For pollutant - PM2.5 \n",
            " \t Place at risk - {'state': 'Kerala', 'city': 'Eloor', 'station': 'Udyogamandal, Eloor - Kerala PCB', 'pollutant_max': 9.0}\n",
            "For pollutant - PM10 \n",
            " \t Place at risk - {'state': 'Kerala', 'city': 'Kannur', 'station': 'Thavakkara, Kannur - Kerala PCB', 'pollutant_max': 26.0}\n",
            "For pollutant - NO2 \n",
            " \t Place at risk - {'state': 'Maharashtra', 'city': 'Mumbai', 'station': 'Bandra, Mumbai - MPCB', 'pollutant_max': 1.0}\n",
            "For pollutant - NH3 \n",
            " \t Place at risk - {'state': 'Maharashtra', 'city': 'Mumbai', 'station': 'Vasai West, Mumbai - MPCB', 'pollutant_max': 1.0}\n",
            "For pollutant - SO2 \n",
            " \t Place at risk - {'state': 'Telangana', 'city': 'Hyderabad', 'station': 'Central University, Hyderabad - TSPCB', 'pollutant_max': 3.0}\n",
            "For pollutant - CO \n",
            " \t Place at risk - {'state': 'Gujarat', 'city': 'Vapi', 'station': 'Phase-1 GIDC, Vapi - GPCB', 'pollutant_max': 4.0}\n",
            "For pollutant - OZONE \n",
            " \t Place at risk - {'state': 'Bihar', 'city': 'Hajipur', 'station': 'Industrial Area, Hajipur - BSPCB', 'pollutant_max': 2.0}\n"
          ],
          "name": "stdout"
        }
      ]
    },
    {
      "cell_type": "code",
      "metadata": {
        "id": "MInXUOk6Fe7l"
      },
      "source": [
        ""
      ],
      "execution_count": null,
      "outputs": []
    },
    {
      "cell_type": "code",
      "metadata": {
        "id": "MikKBoSwFfL8"
      },
      "source": [
        ""
      ],
      "execution_count": null,
      "outputs": []
    },
    {
      "cell_type": "code",
      "metadata": {
        "id": "Mv1XXMGHr_ST",
        "outputId": "ff392151-24e7-43f6-8a8a-7e18168ef228",
        "colab": {
          "base_uri": "https://localhost:8080/",
          "height": 932
        }
      },
      "source": [
        "# searching a particular city\n",
        "\n",
        "cleanDf[cleanDf.apply(lambda x: True if (x.city).lower().find(\"pur\".lower()) >= 0 else False, axis=1)]"
      ],
      "execution_count": 133,
      "outputs": [
        {
          "output_type": "execute_result",
          "data": {
            "text/html": [
              "<div>\n",
              "<style scoped>\n",
              "    .dataframe tbody tr th:only-of-type {\n",
              "        vertical-align: middle;\n",
              "    }\n",
              "\n",
              "    .dataframe tbody tr th {\n",
              "        vertical-align: top;\n",
              "    }\n",
              "\n",
              "    .dataframe thead th {\n",
              "        text-align: right;\n",
              "    }\n",
              "</style>\n",
              "<table border=\"1\" class=\"dataframe\">\n",
              "  <thead>\n",
              "    <tr style=\"text-align: right;\">\n",
              "      <th></th>\n",
              "      <th>id</th>\n",
              "      <th>country</th>\n",
              "      <th>state</th>\n",
              "      <th>city</th>\n",
              "      <th>station</th>\n",
              "      <th>last_update</th>\n",
              "      <th>pollutant_id</th>\n",
              "      <th>pollutant_min</th>\n",
              "      <th>pollutant_max</th>\n",
              "      <th>pollutant_avg</th>\n",
              "      <th>pollutant_unit</th>\n",
              "    </tr>\n",
              "  </thead>\n",
              "  <tbody>\n",
              "    <tr>\n",
              "      <th>20</th>\n",
              "      <td>47</td>\n",
              "      <td>India</td>\n",
              "      <td>Bihar</td>\n",
              "      <td>Hajipur</td>\n",
              "      <td>Industrial Area, Hajipur - BSPCB</td>\n",
              "      <td>20-10-2020 08:00:00</td>\n",
              "      <td>SO2</td>\n",
              "      <td>4.0</td>\n",
              "      <td>7.0</td>\n",
              "      <td>5.0</td>\n",
              "      <td>NA</td>\n",
              "    </tr>\n",
              "    <tr>\n",
              "      <th>21</th>\n",
              "      <td>55</td>\n",
              "      <td>India</td>\n",
              "      <td>Bihar</td>\n",
              "      <td>Muzaffarpur</td>\n",
              "      <td>Buddha Colony, Muzaffarpur - BSPCB</td>\n",
              "      <td>20-10-2020 08:00:00</td>\n",
              "      <td>CO</td>\n",
              "      <td>36.0</td>\n",
              "      <td>96.0</td>\n",
              "      <td>55.0</td>\n",
              "      <td>NA</td>\n",
              "    </tr>\n",
              "    <tr>\n",
              "      <th>22</th>\n",
              "      <td>57</td>\n",
              "      <td>India</td>\n",
              "      <td>Bihar</td>\n",
              "      <td>Muzaffarpur</td>\n",
              "      <td>Muzaffarpur Collectorate, Muzaffarpur - BSPCB</td>\n",
              "      <td>20-10-2020 08:00:00</td>\n",
              "      <td>PM2.5</td>\n",
              "      <td>105.0</td>\n",
              "      <td>316.0</td>\n",
              "      <td>256.0</td>\n",
              "      <td>NA</td>\n",
              "    </tr>\n",
              "    <tr>\n",
              "      <th>23</th>\n",
              "      <td>59</td>\n",
              "      <td>India</td>\n",
              "      <td>Bihar</td>\n",
              "      <td>Muzaffarpur</td>\n",
              "      <td>Muzaffarpur Collectorate, Muzaffarpur - BSPCB</td>\n",
              "      <td>20-10-2020 08:00:00</td>\n",
              "      <td>SO2</td>\n",
              "      <td>43.0</td>\n",
              "      <td>67.0</td>\n",
              "      <td>49.0</td>\n",
              "      <td>NA</td>\n",
              "    </tr>\n",
              "    <tr>\n",
              "      <th>24</th>\n",
              "      <td>61</td>\n",
              "      <td>India</td>\n",
              "      <td>Bihar</td>\n",
              "      <td>Muzaffarpur</td>\n",
              "      <td>Muzaffarpur Collectorate, Muzaffarpur - BSPCB</td>\n",
              "      <td>20-10-2020 08:00:00</td>\n",
              "      <td>OZONE</td>\n",
              "      <td>95.0</td>\n",
              "      <td>111.0</td>\n",
              "      <td>106.0</td>\n",
              "      <td>NA</td>\n",
              "    </tr>\n",
              "    <tr>\n",
              "      <th>...</th>\n",
              "      <td>...</td>\n",
              "      <td>...</td>\n",
              "      <td>...</td>\n",
              "      <td>...</td>\n",
              "      <td>...</td>\n",
              "      <td>...</td>\n",
              "      <td>...</td>\n",
              "      <td>...</td>\n",
              "      <td>...</td>\n",
              "      <td>...</td>\n",
              "      <td>...</td>\n",
              "    </tr>\n",
              "    <tr>\n",
              "      <th>1250</th>\n",
              "      <td>1251</td>\n",
              "      <td>India</td>\n",
              "      <td>Uttar_Pradesh</td>\n",
              "      <td>Hapur</td>\n",
              "      <td>Anand Vihar, Hapur - UPPCB</td>\n",
              "      <td>20-10-2020 08:00:00</td>\n",
              "      <td>OZONE</td>\n",
              "      <td>1.0</td>\n",
              "      <td>2.0</td>\n",
              "      <td>2.0</td>\n",
              "      <td>NA</td>\n",
              "    </tr>\n",
              "    <tr>\n",
              "      <th>1251</th>\n",
              "      <td>1252</td>\n",
              "      <td>India</td>\n",
              "      <td>Uttar_Pradesh</td>\n",
              "      <td>Kanpur</td>\n",
              "      <td>Nehru Nagar, Kanpur - UPPCB</td>\n",
              "      <td>20-10-2020 08:00:00</td>\n",
              "      <td>PM2.5</td>\n",
              "      <td>124.0</td>\n",
              "      <td>307.0</td>\n",
              "      <td>242.0</td>\n",
              "      <td>NA</td>\n",
              "    </tr>\n",
              "    <tr>\n",
              "      <th>1252</th>\n",
              "      <td>1253</td>\n",
              "      <td>India</td>\n",
              "      <td>Uttar_Pradesh</td>\n",
              "      <td>Kanpur</td>\n",
              "      <td>Nehru Nagar, Kanpur - UPPCB</td>\n",
              "      <td>20-10-2020 08:00:00</td>\n",
              "      <td>NO2</td>\n",
              "      <td>37.0</td>\n",
              "      <td>258.0</td>\n",
              "      <td>77.0</td>\n",
              "      <td>NA</td>\n",
              "    </tr>\n",
              "    <tr>\n",
              "      <th>1253</th>\n",
              "      <td>1254</td>\n",
              "      <td>India</td>\n",
              "      <td>Uttar_Pradesh</td>\n",
              "      <td>Kanpur</td>\n",
              "      <td>Nehru Nagar, Kanpur - UPPCB</td>\n",
              "      <td>20-10-2020 08:00:00</td>\n",
              "      <td>SO2</td>\n",
              "      <td>5.0</td>\n",
              "      <td>12.0</td>\n",
              "      <td>8.0</td>\n",
              "      <td>NA</td>\n",
              "    </tr>\n",
              "    <tr>\n",
              "      <th>1254</th>\n",
              "      <td>1255</td>\n",
              "      <td>India</td>\n",
              "      <td>Uttar_Pradesh</td>\n",
              "      <td>Kanpur</td>\n",
              "      <td>Nehru Nagar, Kanpur - UPPCB</td>\n",
              "      <td>20-10-2020 08:00:00</td>\n",
              "      <td>OZONE</td>\n",
              "      <td>19.0</td>\n",
              "      <td>122.0</td>\n",
              "      <td>75.0</td>\n",
              "      <td>NA</td>\n",
              "    </tr>\n",
              "  </tbody>\n",
              "</table>\n",
              "<p>135 rows × 11 columns</p>\n",
              "</div>"
            ],
            "text/plain": [
              "        id country          state  ... pollutant_max pollutant_avg pollutant_unit\n",
              "20      47   India          Bihar  ...           7.0           5.0             NA\n",
              "21      55   India          Bihar  ...          96.0          55.0             NA\n",
              "22      57   India          Bihar  ...         316.0         256.0             NA\n",
              "23      59   India          Bihar  ...          67.0          49.0             NA\n",
              "24      61   India          Bihar  ...         111.0         106.0             NA\n",
              "...    ...     ...            ...  ...           ...           ...            ...\n",
              "1250  1251   India  Uttar_Pradesh  ...           2.0           2.0             NA\n",
              "1251  1252   India  Uttar_Pradesh  ...         307.0         242.0             NA\n",
              "1252  1253   India  Uttar_Pradesh  ...         258.0          77.0             NA\n",
              "1253  1254   India  Uttar_Pradesh  ...          12.0           8.0             NA\n",
              "1254  1255   India  Uttar_Pradesh  ...         122.0          75.0             NA\n",
              "\n",
              "[135 rows x 11 columns]"
            ]
          },
          "metadata": {
            "tags": []
          },
          "execution_count": 133
        }
      ]
    },
    {
      "cell_type": "code",
      "metadata": {
        "id": "DbJFXDJzFfR9"
      },
      "source": [
        ""
      ],
      "execution_count": null,
      "outputs": []
    },
    {
      "cell_type": "code",
      "metadata": {
        "id": "fUkTDolVFfPt"
      },
      "source": [
        ""
      ],
      "execution_count": null,
      "outputs": []
    },
    {
      "cell_type": "code",
      "metadata": {
        "id": "9nzSdGbzFfKV"
      },
      "source": [
        ""
      ],
      "execution_count": null,
      "outputs": []
    },
    {
      "cell_type": "code",
      "metadata": {
        "id": "o3NPtgtB-bx_",
        "outputId": "98171eae-fe95-4b0f-dfc5-8aa98c4fae51",
        "colab": {
          "base_uri": "https://localhost:8080/",
          "height": 34
        }
      },
      "source": [
        "def test():\n",
        "    \"\"\"Stupid test function\"\"\"\n",
        "    L = [i for i in range(100)]\n",
        "\n",
        "if __name__ == '__main__':\n",
        "    import timeit\n",
        "    print(timeit.timeit(\"test()\", setup=\"from __main__ import test\"))\n"
      ],
      "execution_count": 113,
      "outputs": [
        {
          "output_type": "stream",
          "text": [
            "4.81227668199972\n"
          ],
          "name": "stdout"
        }
      ]
    },
    {
      "cell_type": "code",
      "metadata": {
        "id": "lFR3pYAZcu8B",
        "outputId": "00a1fd95-5711-4a7b-d865-09e2a3053ab8",
        "colab": {
          "base_uri": "https://localhost:8080/",
          "height": 34
        }
      },
      "source": [
        "airQualityRecords = []\n",
        "for singleResponse in listOfRecords:\n",
        "  airQualityRecords.extend(singleResponse[\"records\"])\n",
        "len(airQualityRecords)"
      ],
      "execution_count": 24,
      "outputs": [
        {
          "output_type": "execute_result",
          "data": {
            "text/plain": [
              "1416"
            ]
          },
          "metadata": {
            "tags": []
          },
          "execution_count": 24
        }
      ]
    },
    {
      "cell_type": "code",
      "metadata": {
        "id": "Vws-RIpVgso1",
        "outputId": "fc8615b5-b6b2-437d-9dde-390b1097c04f",
        "colab": {
          "base_uri": "https://localhost:8080/",
          "height": 68
        }
      },
      "source": [
        "!pip install progressbar2"
      ],
      "execution_count": 12,
      "outputs": [
        {
          "output_type": "stream",
          "text": [
            "Requirement already satisfied: progressbar2 in /usr/local/lib/python3.6/dist-packages (3.38.0)\n",
            "Requirement already satisfied: six in /usr/local/lib/python3.6/dist-packages (from progressbar2) (1.15.0)\n",
            "Requirement already satisfied: python-utils>=2.3.0 in /usr/local/lib/python3.6/dist-packages (from progressbar2) (2.4.0)\n"
          ],
          "name": "stdout"
        }
      ]
    },
    {
      "cell_type": "code",
      "metadata": {
        "id": "lcN6_P1Xgur-",
        "outputId": "77768fdb-bea2-4fcf-c32c-ef9b87d30831",
        "colab": {
          "base_uri": "https://localhost:8080/",
          "height": 34
        }
      },
      "source": [
        "import time\n",
        "import progressbar\n",
        "\n",
        "for i in progressbar.progressbar(range(100)):\n",
        "    time.sleep(0.02)"
      ],
      "execution_count": 5,
      "outputs": [
        {
          "output_type": "stream",
          "text": [
            "100% (100 of 100) |######################| Elapsed Time: 0:00:02 Time:  0:00:02\n"
          ],
          "name": "stderr"
        }
      ]
    },
    {
      "cell_type": "code",
      "metadata": {
        "id": "j7rxC7nEiI0v"
      },
      "source": [
        "progressbar.streams.flush()"
      ],
      "execution_count": 6,
      "outputs": []
    },
    {
      "cell_type": "code",
      "metadata": {
        "id": "tBHMFrG1hlxx",
        "outputId": "d9fe581b-a15d-45c4-956a-449e7d0b175e",
        "colab": {
          "base_uri": "https://localhost:8080/",
          "height": 34
        }
      },
      "source": [
        "import time\n",
        "import progressbar\n",
        "\n",
        "bar = progressbar.ProgressBar(max_value=20-1)\n",
        "for i in range(20):\n",
        "    time.sleep(0.1)\n",
        "    bar.update(i)"
      ],
      "execution_count": 9,
      "outputs": [
        {
          "output_type": "stream",
          "text": [
            "100% (19 of 19) |########################| Elapsed Time: 0:00:01 ETA:  00:00:00"
          ],
          "name": "stderr"
        }
      ]
    },
    {
      "cell_type": "code",
      "metadata": {
        "id": "k7aK6hRWh9BF"
      },
      "source": [
        ""
      ],
      "execution_count": null,
      "outputs": []
    }
  ]
}